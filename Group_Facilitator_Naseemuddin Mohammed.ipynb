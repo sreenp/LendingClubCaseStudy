{
 "cells": [
  {
   "cell_type": "markdown",
   "id": "4198bf4f",
   "metadata": {},
   "source": [
    "# Lending Club Case Study - Sreekumar N.P."
   ]
  },
  {
   "cell_type": "markdown",
   "id": "08903e4e",
   "metadata": {},
   "source": [
    "Problem Statement :\n",
    "Lending Club requires me to analyze all driving factors and dependencies of the Loan defaulters and provide them with recommendations to identify such applicants."
   ]
  },
  {
   "cell_type": "code",
   "execution_count": 1,
   "id": "eb3ed7be",
   "metadata": {},
   "outputs": [],
   "source": [
    "#import the libraries\n",
    "import pandas as pd,numpy as np\n",
    "import warnings\n",
    "warnings.filterwarnings(\"ignore\") #This is to hide warnings related to sns as advised in the visualization module.\n",
    "#import the plotting libraries\n",
    "import matplotlib.pyplot as plt\n",
    "%matplotlib inline\n",
    "import seaborn as sns"
   ]
  },
  {
   "cell_type": "markdown",
   "id": "24b73331",
   "metadata": {},
   "source": [
    "# Step1 : Data Understanding"
   ]
  },
  {
   "cell_type": "code",
   "execution_count": 2,
   "id": "fd8e537b",
   "metadata": {},
   "outputs": [
    {
     "data": {
      "text/html": [
       "<div>\n",
       "<style scoped>\n",
       "    .dataframe tbody tr th:only-of-type {\n",
       "        vertical-align: middle;\n",
       "    }\n",
       "\n",
       "    .dataframe tbody tr th {\n",
       "        vertical-align: top;\n",
       "    }\n",
       "\n",
       "    .dataframe thead th {\n",
       "        text-align: right;\n",
       "    }\n",
       "</style>\n",
       "<table border=\"1\" class=\"dataframe\">\n",
       "  <thead>\n",
       "    <tr style=\"text-align: right;\">\n",
       "      <th></th>\n",
       "      <th>id</th>\n",
       "      <th>member_id</th>\n",
       "      <th>loan_amnt</th>\n",
       "      <th>funded_amnt</th>\n",
       "      <th>funded_amnt_inv</th>\n",
       "      <th>term</th>\n",
       "      <th>int_rate</th>\n",
       "      <th>installment</th>\n",
       "      <th>grade</th>\n",
       "      <th>sub_grade</th>\n",
       "      <th>...</th>\n",
       "      <th>num_tl_90g_dpd_24m</th>\n",
       "      <th>num_tl_op_past_12m</th>\n",
       "      <th>pct_tl_nvr_dlq</th>\n",
       "      <th>percent_bc_gt_75</th>\n",
       "      <th>pub_rec_bankruptcies</th>\n",
       "      <th>tax_liens</th>\n",
       "      <th>tot_hi_cred_lim</th>\n",
       "      <th>total_bal_ex_mort</th>\n",
       "      <th>total_bc_limit</th>\n",
       "      <th>total_il_high_credit_limit</th>\n",
       "    </tr>\n",
       "  </thead>\n",
       "  <tbody>\n",
       "    <tr>\n",
       "      <th>0</th>\n",
       "      <td>1077501</td>\n",
       "      <td>1296599</td>\n",
       "      <td>5000</td>\n",
       "      <td>5000</td>\n",
       "      <td>4975.0</td>\n",
       "      <td>36 months</td>\n",
       "      <td>10.65%</td>\n",
       "      <td>162.87</td>\n",
       "      <td>B</td>\n",
       "      <td>B2</td>\n",
       "      <td>...</td>\n",
       "      <td>NaN</td>\n",
       "      <td>NaN</td>\n",
       "      <td>NaN</td>\n",
       "      <td>NaN</td>\n",
       "      <td>0.0</td>\n",
       "      <td>0.0</td>\n",
       "      <td>NaN</td>\n",
       "      <td>NaN</td>\n",
       "      <td>NaN</td>\n",
       "      <td>NaN</td>\n",
       "    </tr>\n",
       "    <tr>\n",
       "      <th>1</th>\n",
       "      <td>1077430</td>\n",
       "      <td>1314167</td>\n",
       "      <td>2500</td>\n",
       "      <td>2500</td>\n",
       "      <td>2500.0</td>\n",
       "      <td>60 months</td>\n",
       "      <td>15.27%</td>\n",
       "      <td>59.83</td>\n",
       "      <td>C</td>\n",
       "      <td>C4</td>\n",
       "      <td>...</td>\n",
       "      <td>NaN</td>\n",
       "      <td>NaN</td>\n",
       "      <td>NaN</td>\n",
       "      <td>NaN</td>\n",
       "      <td>0.0</td>\n",
       "      <td>0.0</td>\n",
       "      <td>NaN</td>\n",
       "      <td>NaN</td>\n",
       "      <td>NaN</td>\n",
       "      <td>NaN</td>\n",
       "    </tr>\n",
       "    <tr>\n",
       "      <th>2</th>\n",
       "      <td>1077175</td>\n",
       "      <td>1313524</td>\n",
       "      <td>2400</td>\n",
       "      <td>2400</td>\n",
       "      <td>2400.0</td>\n",
       "      <td>36 months</td>\n",
       "      <td>15.96%</td>\n",
       "      <td>84.33</td>\n",
       "      <td>C</td>\n",
       "      <td>C5</td>\n",
       "      <td>...</td>\n",
       "      <td>NaN</td>\n",
       "      <td>NaN</td>\n",
       "      <td>NaN</td>\n",
       "      <td>NaN</td>\n",
       "      <td>0.0</td>\n",
       "      <td>0.0</td>\n",
       "      <td>NaN</td>\n",
       "      <td>NaN</td>\n",
       "      <td>NaN</td>\n",
       "      <td>NaN</td>\n",
       "    </tr>\n",
       "    <tr>\n",
       "      <th>3</th>\n",
       "      <td>1076863</td>\n",
       "      <td>1277178</td>\n",
       "      <td>10000</td>\n",
       "      <td>10000</td>\n",
       "      <td>10000.0</td>\n",
       "      <td>36 months</td>\n",
       "      <td>13.49%</td>\n",
       "      <td>339.31</td>\n",
       "      <td>C</td>\n",
       "      <td>C1</td>\n",
       "      <td>...</td>\n",
       "      <td>NaN</td>\n",
       "      <td>NaN</td>\n",
       "      <td>NaN</td>\n",
       "      <td>NaN</td>\n",
       "      <td>0.0</td>\n",
       "      <td>0.0</td>\n",
       "      <td>NaN</td>\n",
       "      <td>NaN</td>\n",
       "      <td>NaN</td>\n",
       "      <td>NaN</td>\n",
       "    </tr>\n",
       "    <tr>\n",
       "      <th>4</th>\n",
       "      <td>1075358</td>\n",
       "      <td>1311748</td>\n",
       "      <td>3000</td>\n",
       "      <td>3000</td>\n",
       "      <td>3000.0</td>\n",
       "      <td>60 months</td>\n",
       "      <td>12.69%</td>\n",
       "      <td>67.79</td>\n",
       "      <td>B</td>\n",
       "      <td>B5</td>\n",
       "      <td>...</td>\n",
       "      <td>NaN</td>\n",
       "      <td>NaN</td>\n",
       "      <td>NaN</td>\n",
       "      <td>NaN</td>\n",
       "      <td>0.0</td>\n",
       "      <td>0.0</td>\n",
       "      <td>NaN</td>\n",
       "      <td>NaN</td>\n",
       "      <td>NaN</td>\n",
       "      <td>NaN</td>\n",
       "    </tr>\n",
       "  </tbody>\n",
       "</table>\n",
       "<p>5 rows × 111 columns</p>\n",
       "</div>"
      ],
      "text/plain": [
       "        id  member_id  loan_amnt  funded_amnt  funded_amnt_inv        term  \\\n",
       "0  1077501    1296599       5000         5000           4975.0   36 months   \n",
       "1  1077430    1314167       2500         2500           2500.0   60 months   \n",
       "2  1077175    1313524       2400         2400           2400.0   36 months   \n",
       "3  1076863    1277178      10000        10000          10000.0   36 months   \n",
       "4  1075358    1311748       3000         3000           3000.0   60 months   \n",
       "\n",
       "  int_rate  installment grade sub_grade  ... num_tl_90g_dpd_24m  \\\n",
       "0   10.65%       162.87     B        B2  ...                NaN   \n",
       "1   15.27%        59.83     C        C4  ...                NaN   \n",
       "2   15.96%        84.33     C        C5  ...                NaN   \n",
       "3   13.49%       339.31     C        C1  ...                NaN   \n",
       "4   12.69%        67.79     B        B5  ...                NaN   \n",
       "\n",
       "  num_tl_op_past_12m pct_tl_nvr_dlq  percent_bc_gt_75 pub_rec_bankruptcies  \\\n",
       "0                NaN            NaN               NaN                  0.0   \n",
       "1                NaN            NaN               NaN                  0.0   \n",
       "2                NaN            NaN               NaN                  0.0   \n",
       "3                NaN            NaN               NaN                  0.0   \n",
       "4                NaN            NaN               NaN                  0.0   \n",
       "\n",
       "  tax_liens tot_hi_cred_lim total_bal_ex_mort total_bc_limit  \\\n",
       "0       0.0             NaN               NaN            NaN   \n",
       "1       0.0             NaN               NaN            NaN   \n",
       "2       0.0             NaN               NaN            NaN   \n",
       "3       0.0             NaN               NaN            NaN   \n",
       "4       0.0             NaN               NaN            NaN   \n",
       "\n",
       "  total_il_high_credit_limit  \n",
       "0                        NaN  \n",
       "1                        NaN  \n",
       "2                        NaN  \n",
       "3                        NaN  \n",
       "4                        NaN  \n",
       "\n",
       "[5 rows x 111 columns]"
      ]
     },
     "execution_count": 2,
     "metadata": {},
     "output_type": "execute_result"
    }
   ],
   "source": [
    "#read the dataset and check the first five rows to Check if the data in the data frame is consistent such that there \n",
    "#is no misplaced data between columns.\n",
    "\n",
    "df1=pd.read_csv(\"loan.csv\")\n",
    "df1.head()"
   ]
  },
  {
   "cell_type": "code",
   "execution_count": 3,
   "id": "78f055ec",
   "metadata": {},
   "outputs": [
    {
     "data": {
      "text/plain": [
       "(39717, 111)"
      ]
     },
     "execution_count": 3,
     "metadata": {},
     "output_type": "execute_result"
    }
   ],
   "source": [
    "#Check the shape of the dataframe\n",
    "df1.shape\n"
   ]
  },
  {
   "cell_type": "code",
   "execution_count": 4,
   "id": "7382adca",
   "metadata": {},
   "outputs": [
    {
     "name": "stdout",
     "output_type": "stream",
     "text": [
      "<class 'pandas.core.frame.DataFrame'>\n",
      "RangeIndex: 39717 entries, 0 to 39716\n",
      "Columns: 111 entries, id to total_il_high_credit_limit\n",
      "dtypes: float64(74), int64(13), object(24)\n",
      "memory usage: 33.6+ MB\n"
     ]
    }
   ],
   "source": [
    "#Check the information related to the dataframe to see if the quantitative values are int/float \n",
    "#and categorical is object / String\n",
    "\n",
    "df1.info()"
   ]
  },
  {
   "cell_type": "code",
   "execution_count": 5,
   "id": "68515b89",
   "metadata": {},
   "outputs": [
    {
     "data": {
      "text/html": [
       "<div>\n",
       "<style scoped>\n",
       "    .dataframe tbody tr th:only-of-type {\n",
       "        vertical-align: middle;\n",
       "    }\n",
       "\n",
       "    .dataframe tbody tr th {\n",
       "        vertical-align: top;\n",
       "    }\n",
       "\n",
       "    .dataframe thead th {\n",
       "        text-align: right;\n",
       "    }\n",
       "</style>\n",
       "<table border=\"1\" class=\"dataframe\">\n",
       "  <thead>\n",
       "    <tr style=\"text-align: right;\">\n",
       "      <th></th>\n",
       "      <th>id</th>\n",
       "      <th>member_id</th>\n",
       "      <th>loan_amnt</th>\n",
       "      <th>funded_amnt</th>\n",
       "      <th>funded_amnt_inv</th>\n",
       "      <th>installment</th>\n",
       "      <th>annual_inc</th>\n",
       "      <th>dti</th>\n",
       "      <th>delinq_2yrs</th>\n",
       "      <th>inq_last_6mths</th>\n",
       "      <th>...</th>\n",
       "      <th>num_tl_90g_dpd_24m</th>\n",
       "      <th>num_tl_op_past_12m</th>\n",
       "      <th>pct_tl_nvr_dlq</th>\n",
       "      <th>percent_bc_gt_75</th>\n",
       "      <th>pub_rec_bankruptcies</th>\n",
       "      <th>tax_liens</th>\n",
       "      <th>tot_hi_cred_lim</th>\n",
       "      <th>total_bal_ex_mort</th>\n",
       "      <th>total_bc_limit</th>\n",
       "      <th>total_il_high_credit_limit</th>\n",
       "    </tr>\n",
       "  </thead>\n",
       "  <tbody>\n",
       "    <tr>\n",
       "      <th>count</th>\n",
       "      <td>3.971700e+04</td>\n",
       "      <td>3.971700e+04</td>\n",
       "      <td>39717.000000</td>\n",
       "      <td>39717.000000</td>\n",
       "      <td>39717.000000</td>\n",
       "      <td>39717.000000</td>\n",
       "      <td>3.971700e+04</td>\n",
       "      <td>39717.000000</td>\n",
       "      <td>39717.000000</td>\n",
       "      <td>39717.000000</td>\n",
       "      <td>...</td>\n",
       "      <td>0.0</td>\n",
       "      <td>0.0</td>\n",
       "      <td>0.0</td>\n",
       "      <td>0.0</td>\n",
       "      <td>39020.000000</td>\n",
       "      <td>39678.0</td>\n",
       "      <td>0.0</td>\n",
       "      <td>0.0</td>\n",
       "      <td>0.0</td>\n",
       "      <td>0.0</td>\n",
       "    </tr>\n",
       "    <tr>\n",
       "      <th>mean</th>\n",
       "      <td>6.831319e+05</td>\n",
       "      <td>8.504636e+05</td>\n",
       "      <td>11219.443815</td>\n",
       "      <td>10947.713196</td>\n",
       "      <td>10397.448868</td>\n",
       "      <td>324.561922</td>\n",
       "      <td>6.896893e+04</td>\n",
       "      <td>13.315130</td>\n",
       "      <td>0.146512</td>\n",
       "      <td>0.869200</td>\n",
       "      <td>...</td>\n",
       "      <td>NaN</td>\n",
       "      <td>NaN</td>\n",
       "      <td>NaN</td>\n",
       "      <td>NaN</td>\n",
       "      <td>0.043260</td>\n",
       "      <td>0.0</td>\n",
       "      <td>NaN</td>\n",
       "      <td>NaN</td>\n",
       "      <td>NaN</td>\n",
       "      <td>NaN</td>\n",
       "    </tr>\n",
       "    <tr>\n",
       "      <th>std</th>\n",
       "      <td>2.106941e+05</td>\n",
       "      <td>2.656783e+05</td>\n",
       "      <td>7456.670694</td>\n",
       "      <td>7187.238670</td>\n",
       "      <td>7128.450439</td>\n",
       "      <td>208.874874</td>\n",
       "      <td>6.379377e+04</td>\n",
       "      <td>6.678594</td>\n",
       "      <td>0.491812</td>\n",
       "      <td>1.070219</td>\n",
       "      <td>...</td>\n",
       "      <td>NaN</td>\n",
       "      <td>NaN</td>\n",
       "      <td>NaN</td>\n",
       "      <td>NaN</td>\n",
       "      <td>0.204324</td>\n",
       "      <td>0.0</td>\n",
       "      <td>NaN</td>\n",
       "      <td>NaN</td>\n",
       "      <td>NaN</td>\n",
       "      <td>NaN</td>\n",
       "    </tr>\n",
       "    <tr>\n",
       "      <th>min</th>\n",
       "      <td>5.473400e+04</td>\n",
       "      <td>7.069900e+04</td>\n",
       "      <td>500.000000</td>\n",
       "      <td>500.000000</td>\n",
       "      <td>0.000000</td>\n",
       "      <td>15.690000</td>\n",
       "      <td>4.000000e+03</td>\n",
       "      <td>0.000000</td>\n",
       "      <td>0.000000</td>\n",
       "      <td>0.000000</td>\n",
       "      <td>...</td>\n",
       "      <td>NaN</td>\n",
       "      <td>NaN</td>\n",
       "      <td>NaN</td>\n",
       "      <td>NaN</td>\n",
       "      <td>0.000000</td>\n",
       "      <td>0.0</td>\n",
       "      <td>NaN</td>\n",
       "      <td>NaN</td>\n",
       "      <td>NaN</td>\n",
       "      <td>NaN</td>\n",
       "    </tr>\n",
       "    <tr>\n",
       "      <th>25%</th>\n",
       "      <td>5.162210e+05</td>\n",
       "      <td>6.667800e+05</td>\n",
       "      <td>5500.000000</td>\n",
       "      <td>5400.000000</td>\n",
       "      <td>5000.000000</td>\n",
       "      <td>167.020000</td>\n",
       "      <td>4.040400e+04</td>\n",
       "      <td>8.170000</td>\n",
       "      <td>0.000000</td>\n",
       "      <td>0.000000</td>\n",
       "      <td>...</td>\n",
       "      <td>NaN</td>\n",
       "      <td>NaN</td>\n",
       "      <td>NaN</td>\n",
       "      <td>NaN</td>\n",
       "      <td>0.000000</td>\n",
       "      <td>0.0</td>\n",
       "      <td>NaN</td>\n",
       "      <td>NaN</td>\n",
       "      <td>NaN</td>\n",
       "      <td>NaN</td>\n",
       "    </tr>\n",
       "    <tr>\n",
       "      <th>50%</th>\n",
       "      <td>6.656650e+05</td>\n",
       "      <td>8.508120e+05</td>\n",
       "      <td>10000.000000</td>\n",
       "      <td>9600.000000</td>\n",
       "      <td>8975.000000</td>\n",
       "      <td>280.220000</td>\n",
       "      <td>5.900000e+04</td>\n",
       "      <td>13.400000</td>\n",
       "      <td>0.000000</td>\n",
       "      <td>1.000000</td>\n",
       "      <td>...</td>\n",
       "      <td>NaN</td>\n",
       "      <td>NaN</td>\n",
       "      <td>NaN</td>\n",
       "      <td>NaN</td>\n",
       "      <td>0.000000</td>\n",
       "      <td>0.0</td>\n",
       "      <td>NaN</td>\n",
       "      <td>NaN</td>\n",
       "      <td>NaN</td>\n",
       "      <td>NaN</td>\n",
       "    </tr>\n",
       "    <tr>\n",
       "      <th>75%</th>\n",
       "      <td>8.377550e+05</td>\n",
       "      <td>1.047339e+06</td>\n",
       "      <td>15000.000000</td>\n",
       "      <td>15000.000000</td>\n",
       "      <td>14400.000000</td>\n",
       "      <td>430.780000</td>\n",
       "      <td>8.230000e+04</td>\n",
       "      <td>18.600000</td>\n",
       "      <td>0.000000</td>\n",
       "      <td>1.000000</td>\n",
       "      <td>...</td>\n",
       "      <td>NaN</td>\n",
       "      <td>NaN</td>\n",
       "      <td>NaN</td>\n",
       "      <td>NaN</td>\n",
       "      <td>0.000000</td>\n",
       "      <td>0.0</td>\n",
       "      <td>NaN</td>\n",
       "      <td>NaN</td>\n",
       "      <td>NaN</td>\n",
       "      <td>NaN</td>\n",
       "    </tr>\n",
       "    <tr>\n",
       "      <th>max</th>\n",
       "      <td>1.077501e+06</td>\n",
       "      <td>1.314167e+06</td>\n",
       "      <td>35000.000000</td>\n",
       "      <td>35000.000000</td>\n",
       "      <td>35000.000000</td>\n",
       "      <td>1305.190000</td>\n",
       "      <td>6.000000e+06</td>\n",
       "      <td>29.990000</td>\n",
       "      <td>11.000000</td>\n",
       "      <td>8.000000</td>\n",
       "      <td>...</td>\n",
       "      <td>NaN</td>\n",
       "      <td>NaN</td>\n",
       "      <td>NaN</td>\n",
       "      <td>NaN</td>\n",
       "      <td>2.000000</td>\n",
       "      <td>0.0</td>\n",
       "      <td>NaN</td>\n",
       "      <td>NaN</td>\n",
       "      <td>NaN</td>\n",
       "      <td>NaN</td>\n",
       "    </tr>\n",
       "  </tbody>\n",
       "</table>\n",
       "<p>8 rows × 87 columns</p>\n",
       "</div>"
      ],
      "text/plain": [
       "                 id     member_id     loan_amnt   funded_amnt  \\\n",
       "count  3.971700e+04  3.971700e+04  39717.000000  39717.000000   \n",
       "mean   6.831319e+05  8.504636e+05  11219.443815  10947.713196   \n",
       "std    2.106941e+05  2.656783e+05   7456.670694   7187.238670   \n",
       "min    5.473400e+04  7.069900e+04    500.000000    500.000000   \n",
       "25%    5.162210e+05  6.667800e+05   5500.000000   5400.000000   \n",
       "50%    6.656650e+05  8.508120e+05  10000.000000   9600.000000   \n",
       "75%    8.377550e+05  1.047339e+06  15000.000000  15000.000000   \n",
       "max    1.077501e+06  1.314167e+06  35000.000000  35000.000000   \n",
       "\n",
       "       funded_amnt_inv   installment    annual_inc           dti  \\\n",
       "count     39717.000000  39717.000000  3.971700e+04  39717.000000   \n",
       "mean      10397.448868    324.561922  6.896893e+04     13.315130   \n",
       "std        7128.450439    208.874874  6.379377e+04      6.678594   \n",
       "min           0.000000     15.690000  4.000000e+03      0.000000   \n",
       "25%        5000.000000    167.020000  4.040400e+04      8.170000   \n",
       "50%        8975.000000    280.220000  5.900000e+04     13.400000   \n",
       "75%       14400.000000    430.780000  8.230000e+04     18.600000   \n",
       "max       35000.000000   1305.190000  6.000000e+06     29.990000   \n",
       "\n",
       "        delinq_2yrs  inq_last_6mths  ...  num_tl_90g_dpd_24m  \\\n",
       "count  39717.000000    39717.000000  ...                 0.0   \n",
       "mean       0.146512        0.869200  ...                 NaN   \n",
       "std        0.491812        1.070219  ...                 NaN   \n",
       "min        0.000000        0.000000  ...                 NaN   \n",
       "25%        0.000000        0.000000  ...                 NaN   \n",
       "50%        0.000000        1.000000  ...                 NaN   \n",
       "75%        0.000000        1.000000  ...                 NaN   \n",
       "max       11.000000        8.000000  ...                 NaN   \n",
       "\n",
       "       num_tl_op_past_12m  pct_tl_nvr_dlq  percent_bc_gt_75  \\\n",
       "count                 0.0             0.0               0.0   \n",
       "mean                  NaN             NaN               NaN   \n",
       "std                   NaN             NaN               NaN   \n",
       "min                   NaN             NaN               NaN   \n",
       "25%                   NaN             NaN               NaN   \n",
       "50%                   NaN             NaN               NaN   \n",
       "75%                   NaN             NaN               NaN   \n",
       "max                   NaN             NaN               NaN   \n",
       "\n",
       "       pub_rec_bankruptcies  tax_liens  tot_hi_cred_lim  total_bal_ex_mort  \\\n",
       "count          39020.000000    39678.0              0.0                0.0   \n",
       "mean               0.043260        0.0              NaN                NaN   \n",
       "std                0.204324        0.0              NaN                NaN   \n",
       "min                0.000000        0.0              NaN                NaN   \n",
       "25%                0.000000        0.0              NaN                NaN   \n",
       "50%                0.000000        0.0              NaN                NaN   \n",
       "75%                0.000000        0.0              NaN                NaN   \n",
       "max                2.000000        0.0              NaN                NaN   \n",
       "\n",
       "       total_bc_limit  total_il_high_credit_limit  \n",
       "count             0.0                         0.0  \n",
       "mean              NaN                         NaN  \n",
       "std               NaN                         NaN  \n",
       "min               NaN                         NaN  \n",
       "25%               NaN                         NaN  \n",
       "50%               NaN                         NaN  \n",
       "75%               NaN                         NaN  \n",
       "max               NaN                         NaN  \n",
       "\n",
       "[8 rows x 87 columns]"
      ]
     },
     "execution_count": 5,
     "metadata": {},
     "output_type": "execute_result"
    }
   ],
   "source": [
    "#Check statistical information of the dataframe to see if there are any ouliers through intuitive analysis and also to see where are \n",
    "#the most frequent values exist through median and quantile analysis.\n",
    "\n",
    "df1.describe()"
   ]
  },
  {
   "cell_type": "markdown",
   "id": "e0f162c2",
   "metadata": {},
   "source": [
    "# Inference from the data above : Seems the 25th,50th and 75th percentile of annual income is in the range of 10^4 where as the maximum is in the range of 10^6. This could mean there are outliers to the higher range. "
   ]
  },
  {
   "cell_type": "code",
   "execution_count": 6,
   "id": "dfe2f8ca",
   "metadata": {},
   "outputs": [
    {
     "data": {
      "text/plain": [
       "id                              int64\n",
       "member_id                       int64\n",
       "loan_amnt                       int64\n",
       "funded_amnt                     int64\n",
       "funded_amnt_inv               float64\n",
       "                               ...   \n",
       "tax_liens                     float64\n",
       "tot_hi_cred_lim               float64\n",
       "total_bal_ex_mort             float64\n",
       "total_bc_limit                float64\n",
       "total_il_high_credit_limit    float64\n",
       "Length: 111, dtype: object"
      ]
     },
     "execution_count": 6,
     "metadata": {},
     "output_type": "execute_result"
    }
   ],
   "source": [
    "##Check the datatypes of all the columns of the dataframe\n",
    "df1.dtypes"
   ]
  },
  {
   "cell_type": "code",
   "execution_count": 7,
   "id": "ea2ede77",
   "metadata": {},
   "outputs": [
    {
     "data": {
      "text/plain": [
       "id                                0\n",
       "member_id                         0\n",
       "loan_amnt                         0\n",
       "funded_amnt                       0\n",
       "funded_amnt_inv                   0\n",
       "                              ...  \n",
       "tax_liens                        39\n",
       "tot_hi_cred_lim               39717\n",
       "total_bal_ex_mort             39717\n",
       "total_bc_limit                39717\n",
       "total_il_high_credit_limit    39717\n",
       "Length: 111, dtype: int64"
      ]
     },
     "execution_count": 7,
     "metadata": {},
     "output_type": "execute_result"
    }
   ],
   "source": [
    "#Check the columns having null values and count of null values\n",
    "df1.isnull().sum()"
   ]
  },
  {
   "cell_type": "markdown",
   "id": "bd0a5142",
   "metadata": {},
   "source": [
    "# Check if there are columns which only contains Null values"
   ]
  },
  {
   "cell_type": "code",
   "execution_count": 8,
   "id": "7fc05b55",
   "metadata": {},
   "outputs": [
    {
     "data": {
      "text/plain": [
       "54"
      ]
     },
     "execution_count": 8,
     "metadata": {},
     "output_type": "execute_result"
    }
   ],
   "source": [
    "#Find columns having null values\n",
    "df1.isnull().all().sum()"
   ]
  },
  {
   "cell_type": "code",
   "execution_count": 9,
   "id": "66186506",
   "metadata": {
    "scrolled": true
   },
   "outputs": [
    {
     "data": {
      "text/plain": [
       "mths_since_last_major_derog       float64\n",
       "annual_inc_joint                  float64\n",
       "dti_joint                         float64\n",
       "verification_status_joint         float64\n",
       "tot_coll_amt                      float64\n",
       "tot_cur_bal                       float64\n",
       "open_acc_6m                       float64\n",
       "open_il_6m                        float64\n",
       "open_il_12m                       float64\n",
       "open_il_24m                       float64\n",
       "mths_since_rcnt_il                float64\n",
       "total_bal_il                      float64\n",
       "il_util                           float64\n",
       "open_rv_12m                       float64\n",
       "open_rv_24m                       float64\n",
       "max_bal_bc                        float64\n",
       "all_util                          float64\n",
       "total_rev_hi_lim                  float64\n",
       "inq_fi                            float64\n",
       "total_cu_tl                       float64\n",
       "inq_last_12m                      float64\n",
       "acc_open_past_24mths              float64\n",
       "avg_cur_bal                       float64\n",
       "bc_open_to_buy                    float64\n",
       "bc_util                           float64\n",
       "mo_sin_old_il_acct                float64\n",
       "mo_sin_old_rev_tl_op              float64\n",
       "mo_sin_rcnt_rev_tl_op             float64\n",
       "mo_sin_rcnt_tl                    float64\n",
       "mort_acc                          float64\n",
       "mths_since_recent_bc              float64\n",
       "mths_since_recent_bc_dlq          float64\n",
       "mths_since_recent_inq             float64\n",
       "mths_since_recent_revol_delinq    float64\n",
       "num_accts_ever_120_pd             float64\n",
       "num_actv_bc_tl                    float64\n",
       "num_actv_rev_tl                   float64\n",
       "num_bc_sats                       float64\n",
       "num_bc_tl                         float64\n",
       "num_il_tl                         float64\n",
       "num_op_rev_tl                     float64\n",
       "num_rev_accts                     float64\n",
       "num_rev_tl_bal_gt_0               float64\n",
       "num_sats                          float64\n",
       "num_tl_120dpd_2m                  float64\n",
       "num_tl_30dpd                      float64\n",
       "num_tl_90g_dpd_24m                float64\n",
       "num_tl_op_past_12m                float64\n",
       "pct_tl_nvr_dlq                    float64\n",
       "percent_bc_gt_75                  float64\n",
       "tot_hi_cred_lim                   float64\n",
       "total_bal_ex_mort                 float64\n",
       "total_bc_limit                    float64\n",
       "total_il_high_credit_limit        float64\n",
       "dtype: object"
      ]
     },
     "execution_count": 9,
     "metadata": {},
     "output_type": "execute_result"
    }
   ],
   "source": [
    "#Find columns with all null values and display it with its data type before making a decision to drop them.\n",
    "df1_null=df1.loc[:,df1.isnull().all()]\n",
    "df1_null.dtypes"
   ]
  },
  {
   "cell_type": "markdown",
   "id": "bd0ab66d",
   "metadata": {},
   "source": [
    "# Step2 : Data Cleaning"
   ]
  },
  {
   "cell_type": "code",
   "execution_count": 10,
   "id": "bff74407",
   "metadata": {},
   "outputs": [],
   "source": [
    "#dropping columns with all null\n",
    "df1=df1.dropna(axis=1,how='all')"
   ]
  },
  {
   "cell_type": "code",
   "execution_count": 11,
   "id": "5fffd08a",
   "metadata": {},
   "outputs": [
    {
     "data": {
      "text/plain": [
       "0"
      ]
     },
     "execution_count": 11,
     "metadata": {},
     "output_type": "execute_result"
    }
   ],
   "source": [
    "#Check if the Coulmns with all null values are deleted.\n",
    "df1.isnull().all().sum()\n"
   ]
  },
  {
   "cell_type": "code",
   "execution_count": 12,
   "id": "1e2df120",
   "metadata": {},
   "outputs": [
    {
     "data": {
      "text/plain": [
       "id                                0\n",
       "member_id                         0\n",
       "loan_amnt                         0\n",
       "funded_amnt                       0\n",
       "funded_amnt_inv                   0\n",
       "term                              0\n",
       "int_rate                          0\n",
       "installment                       0\n",
       "grade                             0\n",
       "sub_grade                         0\n",
       "emp_title                      2459\n",
       "emp_length                     1075\n",
       "home_ownership                    0\n",
       "annual_inc                        0\n",
       "verification_status               0\n",
       "issue_d                           0\n",
       "loan_status                       0\n",
       "pymnt_plan                        0\n",
       "url                               0\n",
       "desc                          12940\n",
       "purpose                           0\n",
       "title                            11\n",
       "zip_code                          0\n",
       "addr_state                        0\n",
       "dti                               0\n",
       "delinq_2yrs                       0\n",
       "earliest_cr_line                  0\n",
       "inq_last_6mths                    0\n",
       "mths_since_last_delinq        25682\n",
       "mths_since_last_record        36931\n",
       "open_acc                          0\n",
       "pub_rec                           0\n",
       "revol_bal                         0\n",
       "revol_util                       50\n",
       "total_acc                         0\n",
       "initial_list_status               0\n",
       "out_prncp                         0\n",
       "out_prncp_inv                     0\n",
       "total_pymnt                       0\n",
       "total_pymnt_inv                   0\n",
       "total_rec_prncp                   0\n",
       "total_rec_int                     0\n",
       "total_rec_late_fee                0\n",
       "recoveries                        0\n",
       "collection_recovery_fee           0\n",
       "last_pymnt_d                     71\n",
       "last_pymnt_amnt                   0\n",
       "next_pymnt_d                  38577\n",
       "last_credit_pull_d                2\n",
       "collections_12_mths_ex_med       56\n",
       "policy_code                       0\n",
       "application_type                  0\n",
       "acc_now_delinq                    0\n",
       "chargeoff_within_12_mths         56\n",
       "delinq_amnt                       0\n",
       "pub_rec_bankruptcies            697\n",
       "tax_liens                        39\n",
       "dtype: int64"
      ]
     },
     "execution_count": 12,
     "metadata": {},
     "output_type": "execute_result"
    }
   ],
   "source": [
    "#Find rows having null values after dropping.\n",
    "df1.isnull().sum()"
   ]
  },
  {
   "cell_type": "markdown",
   "id": "405bf7de",
   "metadata": {},
   "source": [
    " # Inference from the data above : As more than ~90% of rows are null in mths_since_last_record ,next_pymnt_d, it is better to delete those columns."
   ]
  },
  {
   "cell_type": "code",
   "execution_count": 13,
   "id": "14420da6",
   "metadata": {},
   "outputs": [],
   "source": [
    "#Delete Columns : mths_since_last_record ,mths_since_last_delinq \n",
    "df1 = df1.drop(columns = ['mths_since_last_record' ,'next_pymnt_d'])"
   ]
  },
  {
   "cell_type": "code",
   "execution_count": 14,
   "id": "5db0f577",
   "metadata": {},
   "outputs": [
    {
     "data": {
      "text/plain": [
       "id                                0\n",
       "member_id                         0\n",
       "loan_amnt                         0\n",
       "funded_amnt                       0\n",
       "funded_amnt_inv                   0\n",
       "term                              0\n",
       "int_rate                          0\n",
       "installment                       0\n",
       "grade                             0\n",
       "sub_grade                         0\n",
       "emp_title                      2459\n",
       "emp_length                     1075\n",
       "home_ownership                    0\n",
       "annual_inc                        0\n",
       "verification_status               0\n",
       "issue_d                           0\n",
       "loan_status                       0\n",
       "pymnt_plan                        0\n",
       "url                               0\n",
       "desc                          12940\n",
       "purpose                           0\n",
       "title                            11\n",
       "zip_code                          0\n",
       "addr_state                        0\n",
       "dti                               0\n",
       "delinq_2yrs                       0\n",
       "earliest_cr_line                  0\n",
       "inq_last_6mths                    0\n",
       "mths_since_last_delinq        25682\n",
       "open_acc                          0\n",
       "pub_rec                           0\n",
       "revol_bal                         0\n",
       "revol_util                       50\n",
       "total_acc                         0\n",
       "initial_list_status               0\n",
       "out_prncp                         0\n",
       "out_prncp_inv                     0\n",
       "total_pymnt                       0\n",
       "total_pymnt_inv                   0\n",
       "total_rec_prncp                   0\n",
       "total_rec_int                     0\n",
       "total_rec_late_fee                0\n",
       "recoveries                        0\n",
       "collection_recovery_fee           0\n",
       "last_pymnt_d                     71\n",
       "last_pymnt_amnt                   0\n",
       "last_credit_pull_d                2\n",
       "collections_12_mths_ex_med       56\n",
       "policy_code                       0\n",
       "application_type                  0\n",
       "acc_now_delinq                    0\n",
       "chargeoff_within_12_mths         56\n",
       "delinq_amnt                       0\n",
       "pub_rec_bankruptcies            697\n",
       "tax_liens                        39\n",
       "dtype: int64"
      ]
     },
     "execution_count": 14,
     "metadata": {},
     "output_type": "execute_result"
    }
   ],
   "source": [
    "#Find rows having null values\n",
    "df1.isnull().sum()"
   ]
  },
  {
   "cell_type": "code",
   "execution_count": 15,
   "id": "61d4f5d3",
   "metadata": {},
   "outputs": [
    {
     "data": {
      "text/plain": [
       "0"
      ]
     },
     "execution_count": 15,
     "metadata": {},
     "output_type": "execute_result"
    }
   ],
   "source": [
    "#Check if there are null values in the loan_status column.\n",
    "df1.loan_status.isnull().sum()\n"
   ]
  },
  {
   "cell_type": "code",
   "execution_count": 16,
   "id": "94960176",
   "metadata": {},
   "outputs": [
    {
     "data": {
      "text/plain": [
       "Fully Paid     32950\n",
       "Charged Off     5627\n",
       "Current         1140\n",
       "Name: loan_status, dtype: int64"
      ]
     },
     "execution_count": 16,
     "metadata": {},
     "output_type": "execute_result"
    }
   ],
   "source": [
    "# Find data within the loan_status series and number of instances of the data within 'loan_status'\n",
    "df1.loan_status.value_counts()"
   ]
  },
  {
   "cell_type": "code",
   "execution_count": 17,
   "id": "0bed4bb6",
   "metadata": {},
   "outputs": [
    {
     "data": {
      "text/plain": [
       "id                              int64\n",
       "member_id                       int64\n",
       "loan_amnt                       int64\n",
       "funded_amnt                     int64\n",
       "funded_amnt_inv               float64\n",
       "term                           object\n",
       "int_rate                       object\n",
       "installment                   float64\n",
       "grade                          object\n",
       "sub_grade                      object\n",
       "emp_title                      object\n",
       "emp_length                     object\n",
       "home_ownership                 object\n",
       "annual_inc                    float64\n",
       "verification_status            object\n",
       "issue_d                        object\n",
       "loan_status                    object\n",
       "pymnt_plan                     object\n",
       "url                            object\n",
       "desc                           object\n",
       "purpose                        object\n",
       "title                          object\n",
       "zip_code                       object\n",
       "addr_state                     object\n",
       "dti                           float64\n",
       "delinq_2yrs                     int64\n",
       "earliest_cr_line               object\n",
       "inq_last_6mths                  int64\n",
       "mths_since_last_delinq        float64\n",
       "open_acc                        int64\n",
       "pub_rec                         int64\n",
       "revol_bal                       int64\n",
       "revol_util                     object\n",
       "total_acc                       int64\n",
       "initial_list_status            object\n",
       "out_prncp                     float64\n",
       "out_prncp_inv                 float64\n",
       "total_pymnt                   float64\n",
       "total_pymnt_inv               float64\n",
       "total_rec_prncp               float64\n",
       "total_rec_int                 float64\n",
       "total_rec_late_fee            float64\n",
       "recoveries                    float64\n",
       "collection_recovery_fee       float64\n",
       "last_pymnt_d                   object\n",
       "last_pymnt_amnt               float64\n",
       "last_credit_pull_d             object\n",
       "collections_12_mths_ex_med    float64\n",
       "policy_code                     int64\n",
       "application_type               object\n",
       "acc_now_delinq                  int64\n",
       "chargeoff_within_12_mths      float64\n",
       "delinq_amnt                     int64\n",
       "pub_rec_bankruptcies          float64\n",
       "tax_liens                     float64\n",
       "dtype: object"
      ]
     },
     "execution_count": 17,
     "metadata": {},
     "output_type": "execute_result"
    }
   ],
   "source": [
    "#Find the data type of columns\n",
    "df1.dtypes"
   ]
  },
  {
   "cell_type": "code",
   "execution_count": 18,
   "id": "764063a7",
   "metadata": {},
   "outputs": [
    {
     "data": {
      "text/html": [
       "<div>\n",
       "<style scoped>\n",
       "    .dataframe tbody tr th:only-of-type {\n",
       "        vertical-align: middle;\n",
       "    }\n",
       "\n",
       "    .dataframe tbody tr th {\n",
       "        vertical-align: top;\n",
       "    }\n",
       "\n",
       "    .dataframe thead th {\n",
       "        text-align: right;\n",
       "    }\n",
       "</style>\n",
       "<table border=\"1\" class=\"dataframe\">\n",
       "  <thead>\n",
       "    <tr style=\"text-align: right;\">\n",
       "      <th></th>\n",
       "      <th>id</th>\n",
       "      <th>member_id</th>\n",
       "      <th>loan_amnt</th>\n",
       "      <th>funded_amnt</th>\n",
       "      <th>funded_amnt_inv</th>\n",
       "      <th>term</th>\n",
       "      <th>int_rate</th>\n",
       "      <th>installment</th>\n",
       "      <th>grade</th>\n",
       "      <th>sub_grade</th>\n",
       "      <th>...</th>\n",
       "      <th>last_pymnt_amnt</th>\n",
       "      <th>last_credit_pull_d</th>\n",
       "      <th>collections_12_mths_ex_med</th>\n",
       "      <th>policy_code</th>\n",
       "      <th>application_type</th>\n",
       "      <th>acc_now_delinq</th>\n",
       "      <th>chargeoff_within_12_mths</th>\n",
       "      <th>delinq_amnt</th>\n",
       "      <th>pub_rec_bankruptcies</th>\n",
       "      <th>tax_liens</th>\n",
       "    </tr>\n",
       "  </thead>\n",
       "  <tbody>\n",
       "    <tr>\n",
       "      <th>0</th>\n",
       "      <td>1077501</td>\n",
       "      <td>1296599</td>\n",
       "      <td>5000</td>\n",
       "      <td>5000</td>\n",
       "      <td>4975.0</td>\n",
       "      <td>36 months</td>\n",
       "      <td>10.65</td>\n",
       "      <td>162.87</td>\n",
       "      <td>B</td>\n",
       "      <td>B2</td>\n",
       "      <td>...</td>\n",
       "      <td>171.62</td>\n",
       "      <td>May-16</td>\n",
       "      <td>0.0</td>\n",
       "      <td>1</td>\n",
       "      <td>INDIVIDUAL</td>\n",
       "      <td>0</td>\n",
       "      <td>0.0</td>\n",
       "      <td>0</td>\n",
       "      <td>0.0</td>\n",
       "      <td>0.0</td>\n",
       "    </tr>\n",
       "    <tr>\n",
       "      <th>1</th>\n",
       "      <td>1077430</td>\n",
       "      <td>1314167</td>\n",
       "      <td>2500</td>\n",
       "      <td>2500</td>\n",
       "      <td>2500.0</td>\n",
       "      <td>60 months</td>\n",
       "      <td>15.27</td>\n",
       "      <td>59.83</td>\n",
       "      <td>C</td>\n",
       "      <td>C4</td>\n",
       "      <td>...</td>\n",
       "      <td>119.66</td>\n",
       "      <td>Sep-13</td>\n",
       "      <td>0.0</td>\n",
       "      <td>1</td>\n",
       "      <td>INDIVIDUAL</td>\n",
       "      <td>0</td>\n",
       "      <td>0.0</td>\n",
       "      <td>0</td>\n",
       "      <td>0.0</td>\n",
       "      <td>0.0</td>\n",
       "    </tr>\n",
       "    <tr>\n",
       "      <th>2</th>\n",
       "      <td>1077175</td>\n",
       "      <td>1313524</td>\n",
       "      <td>2400</td>\n",
       "      <td>2400</td>\n",
       "      <td>2400.0</td>\n",
       "      <td>36 months</td>\n",
       "      <td>15.96</td>\n",
       "      <td>84.33</td>\n",
       "      <td>C</td>\n",
       "      <td>C5</td>\n",
       "      <td>...</td>\n",
       "      <td>649.91</td>\n",
       "      <td>May-16</td>\n",
       "      <td>0.0</td>\n",
       "      <td>1</td>\n",
       "      <td>INDIVIDUAL</td>\n",
       "      <td>0</td>\n",
       "      <td>0.0</td>\n",
       "      <td>0</td>\n",
       "      <td>0.0</td>\n",
       "      <td>0.0</td>\n",
       "    </tr>\n",
       "    <tr>\n",
       "      <th>3</th>\n",
       "      <td>1076863</td>\n",
       "      <td>1277178</td>\n",
       "      <td>10000</td>\n",
       "      <td>10000</td>\n",
       "      <td>10000.0</td>\n",
       "      <td>36 months</td>\n",
       "      <td>13.49</td>\n",
       "      <td>339.31</td>\n",
       "      <td>C</td>\n",
       "      <td>C1</td>\n",
       "      <td>...</td>\n",
       "      <td>357.48</td>\n",
       "      <td>Apr-16</td>\n",
       "      <td>0.0</td>\n",
       "      <td>1</td>\n",
       "      <td>INDIVIDUAL</td>\n",
       "      <td>0</td>\n",
       "      <td>0.0</td>\n",
       "      <td>0</td>\n",
       "      <td>0.0</td>\n",
       "      <td>0.0</td>\n",
       "    </tr>\n",
       "    <tr>\n",
       "      <th>4</th>\n",
       "      <td>1075358</td>\n",
       "      <td>1311748</td>\n",
       "      <td>3000</td>\n",
       "      <td>3000</td>\n",
       "      <td>3000.0</td>\n",
       "      <td>60 months</td>\n",
       "      <td>12.69</td>\n",
       "      <td>67.79</td>\n",
       "      <td>B</td>\n",
       "      <td>B5</td>\n",
       "      <td>...</td>\n",
       "      <td>67.79</td>\n",
       "      <td>May-16</td>\n",
       "      <td>0.0</td>\n",
       "      <td>1</td>\n",
       "      <td>INDIVIDUAL</td>\n",
       "      <td>0</td>\n",
       "      <td>0.0</td>\n",
       "      <td>0</td>\n",
       "      <td>0.0</td>\n",
       "      <td>0.0</td>\n",
       "    </tr>\n",
       "  </tbody>\n",
       "</table>\n",
       "<p>5 rows × 55 columns</p>\n",
       "</div>"
      ],
      "text/plain": [
       "        id  member_id  loan_amnt  funded_amnt  funded_amnt_inv        term  \\\n",
       "0  1077501    1296599       5000         5000           4975.0   36 months   \n",
       "1  1077430    1314167       2500         2500           2500.0   60 months   \n",
       "2  1077175    1313524       2400         2400           2400.0   36 months   \n",
       "3  1076863    1277178      10000        10000          10000.0   36 months   \n",
       "4  1075358    1311748       3000         3000           3000.0   60 months   \n",
       "\n",
       "   int_rate  installment grade sub_grade  ... last_pymnt_amnt  \\\n",
       "0     10.65       162.87     B        B2  ...          171.62   \n",
       "1     15.27        59.83     C        C4  ...          119.66   \n",
       "2     15.96        84.33     C        C5  ...          649.91   \n",
       "3     13.49       339.31     C        C1  ...          357.48   \n",
       "4     12.69        67.79     B        B5  ...           67.79   \n",
       "\n",
       "  last_credit_pull_d collections_12_mths_ex_med  policy_code application_type  \\\n",
       "0             May-16                        0.0            1       INDIVIDUAL   \n",
       "1             Sep-13                        0.0            1       INDIVIDUAL   \n",
       "2             May-16                        0.0            1       INDIVIDUAL   \n",
       "3             Apr-16                        0.0            1       INDIVIDUAL   \n",
       "4             May-16                        0.0            1       INDIVIDUAL   \n",
       "\n",
       "  acc_now_delinq chargeoff_within_12_mths delinq_amnt pub_rec_bankruptcies  \\\n",
       "0              0                      0.0           0                  0.0   \n",
       "1              0                      0.0           0                  0.0   \n",
       "2              0                      0.0           0                  0.0   \n",
       "3              0                      0.0           0                  0.0   \n",
       "4              0                      0.0           0                  0.0   \n",
       "\n",
       "  tax_liens  \n",
       "0       0.0  \n",
       "1       0.0  \n",
       "2       0.0  \n",
       "3       0.0  \n",
       "4       0.0  \n",
       "\n",
       "[5 rows x 55 columns]"
      ]
     },
     "execution_count": 18,
     "metadata": {},
     "output_type": "execute_result"
    }
   ],
   "source": [
    "# interst rate needs to be converted to a quantitative value for easy analysis.\n",
    "df1.int_rate=df1.int_rate.str.replace('%','')\n",
    "df1.int_rate.value_counts()\n",
    "df1.int_rate=df1.int_rate.astype(\"float\")\n",
    "df1.head()"
   ]
  },
  {
   "cell_type": "code",
   "execution_count": 19,
   "id": "4a08f05c",
   "metadata": {},
   "outputs": [
    {
     "data": {
      "text/plain": [
       "id                              int64\n",
       "member_id                       int64\n",
       "loan_amnt                       int64\n",
       "funded_amnt                     int64\n",
       "funded_amnt_inv               float64\n",
       "term                           object\n",
       "int_rate                      float64\n",
       "installment                   float64\n",
       "grade                          object\n",
       "sub_grade                      object\n",
       "emp_title                      object\n",
       "emp_length                     object\n",
       "home_ownership                 object\n",
       "annual_inc                    float64\n",
       "verification_status            object\n",
       "issue_d                        object\n",
       "loan_status                    object\n",
       "pymnt_plan                     object\n",
       "url                            object\n",
       "desc                           object\n",
       "purpose                        object\n",
       "title                          object\n",
       "zip_code                       object\n",
       "addr_state                     object\n",
       "dti                           float64\n",
       "delinq_2yrs                     int64\n",
       "earliest_cr_line               object\n",
       "inq_last_6mths                  int64\n",
       "mths_since_last_delinq        float64\n",
       "open_acc                        int64\n",
       "pub_rec                         int64\n",
       "revol_bal                       int64\n",
       "revol_util                     object\n",
       "total_acc                       int64\n",
       "initial_list_status            object\n",
       "out_prncp                     float64\n",
       "out_prncp_inv                 float64\n",
       "total_pymnt                   float64\n",
       "total_pymnt_inv               float64\n",
       "total_rec_prncp               float64\n",
       "total_rec_int                 float64\n",
       "total_rec_late_fee            float64\n",
       "recoveries                    float64\n",
       "collection_recovery_fee       float64\n",
       "last_pymnt_d                   object\n",
       "last_pymnt_amnt               float64\n",
       "last_credit_pull_d             object\n",
       "collections_12_mths_ex_med    float64\n",
       "policy_code                     int64\n",
       "application_type               object\n",
       "acc_now_delinq                  int64\n",
       "chargeoff_within_12_mths      float64\n",
       "delinq_amnt                     int64\n",
       "pub_rec_bankruptcies          float64\n",
       "tax_liens                     float64\n",
       "dtype: object"
      ]
     },
     "execution_count": 19,
     "metadata": {},
     "output_type": "execute_result"
    }
   ],
   "source": [
    "#Check and ensure that int_rate is changed to float64\n",
    "df1.dtypes"
   ]
  },
  {
   "cell_type": "code",
   "execution_count": 20,
   "id": "4c30d2aa",
   "metadata": {},
   "outputs": [
    {
     "data": {
      "text/plain": [
       "0"
      ]
     },
     "execution_count": 20,
     "metadata": {},
     "output_type": "execute_result"
    }
   ],
   "source": [
    "#Check if there are null values in the dti column.\n",
    "df1.dti.isnull().sum()"
   ]
  },
  {
   "cell_type": "code",
   "execution_count": 21,
   "id": "21c89d2f",
   "metadata": {},
   "outputs": [
    {
     "data": {
      "text/plain": [
       "1075"
      ]
     },
     "execution_count": 21,
     "metadata": {},
     "output_type": "execute_result"
    }
   ],
   "source": [
    "#Check if there are null values in the emp_length column.\n",
    "df1.emp_length.isnull().sum()"
   ]
  },
  {
   "cell_type": "code",
   "execution_count": 22,
   "id": "00b2f42e",
   "metadata": {},
   "outputs": [
    {
     "data": {
      "text/plain": [
       "0"
      ]
     },
     "execution_count": 22,
     "metadata": {},
     "output_type": "execute_result"
    }
   ],
   "source": [
    "#delete the null value rows, as it doen't make sense to have blank values.\n",
    "df1 = df1.dropna(subset=['emp_length'])\n",
    "df1.emp_length.isnull().sum()"
   ]
  },
  {
   "cell_type": "code",
   "execution_count": 23,
   "id": "d83dccc5",
   "metadata": {},
   "outputs": [
    {
     "data": {
      "text/plain": [
       "10+ years    8879\n",
       "< 1 year     4583\n",
       "2 years      4388\n",
       "3 years      4095\n",
       "4 years      3436\n",
       "5 years      3282\n",
       "1 year       3240\n",
       "6 years      2229\n",
       "7 years      1773\n",
       "8 years      1479\n",
       "9 years      1258\n",
       "Name: emp_length, dtype: int64"
      ]
     },
     "execution_count": 23,
     "metadata": {},
     "output_type": "execute_result"
    }
   ],
   "source": [
    "#check the count of each category in the variable\n",
    "df1.emp_length.value_counts()"
   ]
  },
  {
   "cell_type": "code",
   "execution_count": 24,
   "id": "bddfb4ae",
   "metadata": {
    "scrolled": true
   },
   "outputs": [
    {
     "data": {
      "text/plain": [
       "id                                0\n",
       "member_id                         0\n",
       "loan_amnt                         0\n",
       "funded_amnt                       0\n",
       "funded_amnt_inv                   0\n",
       "term                              0\n",
       "int_rate                          0\n",
       "installment                       0\n",
       "grade                             0\n",
       "sub_grade                         0\n",
       "emp_title                      1440\n",
       "emp_length                        0\n",
       "home_ownership                    0\n",
       "annual_inc                        0\n",
       "verification_status               0\n",
       "issue_d                           0\n",
       "loan_status                       0\n",
       "pymnt_plan                        0\n",
       "url                               0\n",
       "desc                          12495\n",
       "purpose                           0\n",
       "title                            10\n",
       "zip_code                          0\n",
       "addr_state                        0\n",
       "dti                               0\n",
       "delinq_2yrs                       0\n",
       "earliest_cr_line                  0\n",
       "inq_last_6mths                    0\n",
       "mths_since_last_delinq        24952\n",
       "open_acc                          0\n",
       "pub_rec                           0\n",
       "revol_bal                         0\n",
       "revol_util                       47\n",
       "total_acc                         0\n",
       "initial_list_status               0\n",
       "out_prncp                         0\n",
       "out_prncp_inv                     0\n",
       "total_pymnt                       0\n",
       "total_pymnt_inv                   0\n",
       "total_rec_prncp                   0\n",
       "total_rec_int                     0\n",
       "total_rec_late_fee                0\n",
       "recoveries                        0\n",
       "collection_recovery_fee           0\n",
       "last_pymnt_d                     66\n",
       "last_pymnt_amnt                   0\n",
       "last_credit_pull_d                2\n",
       "collections_12_mths_ex_med       56\n",
       "policy_code                       0\n",
       "application_type                  0\n",
       "acc_now_delinq                    0\n",
       "chargeoff_within_12_mths         56\n",
       "delinq_amnt                       0\n",
       "pub_rec_bankruptcies            697\n",
       "tax_liens                        39\n",
       "dtype: int64"
      ]
     },
     "execution_count": 24,
     "metadata": {},
     "output_type": "execute_result"
    }
   ],
   "source": [
    "#Check the remaining null values within the dataset\n",
    "df1.isnull().sum()"
   ]
  },
  {
   "cell_type": "code",
   "execution_count": 25,
   "id": "0aba3828",
   "metadata": {},
   "outputs": [
    {
     "data": {
      "text/plain": [
       "(38642, 55)"
      ]
     },
     "execution_count": 25,
     "metadata": {},
     "output_type": "execute_result"
    }
   ],
   "source": [
    "#Check shape of the dataframe after data cleaning\n",
    "df1.shape"
   ]
  },
  {
   "cell_type": "markdown",
   "id": "9ae1ade7",
   "metadata": {},
   "source": [
    "# Find Outliers using box plot"
   ]
  },
  {
   "cell_type": "code",
   "execution_count": 26,
   "id": "36076f55",
   "metadata": {},
   "outputs": [
    {
     "data": {
      "text/plain": [
       "count    3.864200e+04\n",
       "mean     6.960828e+04\n",
       "std      6.425320e+04\n",
       "min      4.000000e+03\n",
       "25%      4.140000e+04\n",
       "50%      6.000000e+04\n",
       "75%      8.319999e+04\n",
       "max      6.000000e+06\n",
       "Name: annual_inc, dtype: float64"
      ]
     },
     "execution_count": 26,
     "metadata": {},
     "output_type": "execute_result"
    }
   ],
   "source": [
    "df1.annual_inc.describe()"
   ]
  },
  {
   "cell_type": "code",
   "execution_count": 27,
   "id": "8a05a3c5",
   "metadata": {},
   "outputs": [
    {
     "data": {
      "text/plain": [
       "<AxesSubplot:>"
      ]
     },
     "execution_count": 27,
     "metadata": {},
     "output_type": "execute_result"
    },
    {
     "data": {
      "image/png": "[encoded data removed]",
      "text/plain": [
       "<Figure size 432x288 with 1 Axes>"
      ]
     },
     "metadata": {
      "needs_background": "light"
     },
     "output_type": "display_data"
    }
   ],
   "source": [
    "df1.annual_inc.plot.box()"
   ]
  },
  {
   "cell_type": "markdown",
   "id": "5d13f709",
   "metadata": {},
   "source": [
    "# From further investigation to gain domain experience the important variables identified are: \n",
    "1. Annual Income (annual_inc)\n",
    "2. Loan Amount (loan_anmt)\n",
    "3. Term (term)\n",
    "4. Grade (grade)\n",
    "5. SubGrade (sub_grade)\n",
    "6. Loan Amount (loan_amnt)\n",
    "7. Purpose of loan (purpose)\n",
    "8. DTI (dti)\n",
    "9. Employment years (emp_length)\n",
    "10. Hpme Ownership (home_ownership)\n",
    "11. Verification_Status (verification_status)\n",
    "\n",
    "There are customer behavioral variables present in the dataset, but that won't be available at the time of loan application hence can be ignored.\n"
   ]
  },
  {
   "cell_type": "code",
   "execution_count": 28,
   "id": "98fd634a",
   "metadata": {},
   "outputs": [
    {
     "data": {
      "text/plain": [
       "(37544, 55)"
      ]
     },
     "execution_count": 28,
     "metadata": {},
     "output_type": "execute_result"
    }
   ],
   "source": [
    "#As anaysis is on finding the factors that contribute for chargeoff, details related to 'Current' are irrelevant.\n",
    "#So dropping them\n",
    "df1 = df1.drop(df1[df1.loan_status == 'Current'].index)\n",
    "df1.shape"
   ]
  },
  {
   "cell_type": "code",
   "execution_count": 29,
   "id": "802de658",
   "metadata": {},
   "outputs": [
    {
     "data": {
      "image/png": "[encoded data removed]",
      "text/plain": [
       "<Figure size 432x288 with 1 Axes>"
      ]
     },
     "metadata": {
      "needs_background": "light"
     },
     "output_type": "display_data"
    }
   ],
   "source": [
    "#Analyze the data relationship outliers between loan_status and annual income.\n",
    "sns.boxplot(df1.annual_inc,df1.loan_status)\n",
    "plt.show()"
   ]
  },
  {
   "cell_type": "code",
   "execution_count": 30,
   "id": "e2edb70e",
   "metadata": {},
   "outputs": [],
   "source": [
    "#Remove the outliers from annual income which are less than 1e6\n",
    "df1 = df1[df1.annual_inc < 1000000]"
   ]
  },
  {
   "cell_type": "code",
   "execution_count": 31,
   "id": "d93d9569",
   "metadata": {},
   "outputs": [
    {
     "data": {
      "image/png": "[encoded data removed]",
      "text/plain": [
       "<Figure size 432x288 with 1 Axes>"
      ]
     },
     "metadata": {
      "needs_background": "light"
     },
     "output_type": "display_data"
    }
   ],
   "source": [
    "#Check plot after removal of outliers\n",
    "sns.boxplot(df1.annual_inc,df1.loan_status)\n",
    "plt.show()"
   ]
  },
  {
   "cell_type": "code",
   "execution_count": 32,
   "id": "3e2bf8aa",
   "metadata": {},
   "outputs": [
    {
     "data": {
      "text/html": [
       "<div>\n",
       "<style scoped>\n",
       "    .dataframe tbody tr th:only-of-type {\n",
       "        vertical-align: middle;\n",
       "    }\n",
       "\n",
       "    .dataframe tbody tr th {\n",
       "        vertical-align: top;\n",
       "    }\n",
       "\n",
       "    .dataframe thead th {\n",
       "        text-align: right;\n",
       "    }\n",
       "</style>\n",
       "<table border=\"1\" class=\"dataframe\">\n",
       "  <thead>\n",
       "    <tr style=\"text-align: right;\">\n",
       "      <th></th>\n",
       "      <th>id</th>\n",
       "      <th>member_id</th>\n",
       "      <th>loan_amnt</th>\n",
       "      <th>funded_amnt</th>\n",
       "      <th>funded_amnt_inv</th>\n",
       "      <th>int_rate</th>\n",
       "      <th>installment</th>\n",
       "      <th>annual_inc</th>\n",
       "      <th>dti</th>\n",
       "      <th>delinq_2yrs</th>\n",
       "      <th>...</th>\n",
       "      <th>recoveries</th>\n",
       "      <th>collection_recovery_fee</th>\n",
       "      <th>last_pymnt_amnt</th>\n",
       "      <th>collections_12_mths_ex_med</th>\n",
       "      <th>policy_code</th>\n",
       "      <th>acc_now_delinq</th>\n",
       "      <th>chargeoff_within_12_mths</th>\n",
       "      <th>delinq_amnt</th>\n",
       "      <th>pub_rec_bankruptcies</th>\n",
       "      <th>tax_liens</th>\n",
       "    </tr>\n",
       "  </thead>\n",
       "  <tbody>\n",
       "    <tr>\n",
       "      <th>count</th>\n",
       "      <td>5.398000e+03</td>\n",
       "      <td>5.398000e+03</td>\n",
       "      <td>5398.00000</td>\n",
       "      <td>5398.000000</td>\n",
       "      <td>5398.000000</td>\n",
       "      <td>5398.000000</td>\n",
       "      <td>5398.000000</td>\n",
       "      <td>5398.000000</td>\n",
       "      <td>5398.000000</td>\n",
       "      <td>5398.000000</td>\n",
       "      <td>...</td>\n",
       "      <td>5398.000000</td>\n",
       "      <td>5398.000000</td>\n",
       "      <td>5398.000000</td>\n",
       "      <td>5392.0</td>\n",
       "      <td>5398.0</td>\n",
       "      <td>5398.0</td>\n",
       "      <td>5392.0</td>\n",
       "      <td>5398.0</td>\n",
       "      <td>5280.000000</td>\n",
       "      <td>5397.0</td>\n",
       "    </tr>\n",
       "    <tr>\n",
       "      <th>mean</th>\n",
       "      <td>6.955654e+05</td>\n",
       "      <td>8.646127e+05</td>\n",
       "      <td>12243.42349</td>\n",
       "      <td>11883.702297</td>\n",
       "      <td>10967.817088</td>\n",
       "      <td>13.882108</td>\n",
       "      <td>339.870923</td>\n",
       "      <td>63111.270791</td>\n",
       "      <td>13.978359</td>\n",
       "      <td>0.169878</td>\n",
       "      <td>...</td>\n",
       "      <td>685.000623</td>\n",
       "      <td>89.135075</td>\n",
       "      <td>329.154329</td>\n",
       "      <td>0.0</td>\n",
       "      <td>1.0</td>\n",
       "      <td>0.0</td>\n",
       "      <td>0.0</td>\n",
       "      <td>0.0</td>\n",
       "      <td>0.064205</td>\n",
       "      <td>0.0</td>\n",
       "    </tr>\n",
       "    <tr>\n",
       "      <th>std</th>\n",
       "      <td>2.173875e+05</td>\n",
       "      <td>2.741799e+05</td>\n",
       "      <td>8087.12192</td>\n",
       "      <td>7759.375996</td>\n",
       "      <td>7677.998799</td>\n",
       "      <td>3.639362</td>\n",
       "      <td>217.134322</td>\n",
       "      <td>45314.605300</td>\n",
       "      <td>6.570895</td>\n",
       "      <td>0.534041</td>\n",
       "      <td>...</td>\n",
       "      <td>1746.315653</td>\n",
       "      <td>392.288766</td>\n",
       "      <td>535.478993</td>\n",
       "      <td>0.0</td>\n",
       "      <td>0.0</td>\n",
       "      <td>0.0</td>\n",
       "      <td>0.0</td>\n",
       "      <td>0.0</td>\n",
       "      <td>0.246681</td>\n",
       "      <td>0.0</td>\n",
       "    </tr>\n",
       "    <tr>\n",
       "      <th>min</th>\n",
       "      <td>6.141900e+04</td>\n",
       "      <td>8.035300e+04</td>\n",
       "      <td>900.00000</td>\n",
       "      <td>900.000000</td>\n",
       "      <td>0.000000</td>\n",
       "      <td>5.420000</td>\n",
       "      <td>22.790000</td>\n",
       "      <td>4080.000000</td>\n",
       "      <td>0.000000</td>\n",
       "      <td>0.000000</td>\n",
       "      <td>...</td>\n",
       "      <td>0.000000</td>\n",
       "      <td>0.000000</td>\n",
       "      <td>0.000000</td>\n",
       "      <td>0.0</td>\n",
       "      <td>1.0</td>\n",
       "      <td>0.0</td>\n",
       "      <td>0.0</td>\n",
       "      <td>0.0</td>\n",
       "      <td>0.000000</td>\n",
       "      <td>0.0</td>\n",
       "    </tr>\n",
       "    <tr>\n",
       "      <th>25%</th>\n",
       "      <td>5.273445e+05</td>\n",
       "      <td>6.819455e+05</td>\n",
       "      <td>6000.00000</td>\n",
       "      <td>5850.000000</td>\n",
       "      <td>5000.000000</td>\n",
       "      <td>11.460000</td>\n",
       "      <td>171.480000</td>\n",
       "      <td>38232.332500</td>\n",
       "      <td>9.050000</td>\n",
       "      <td>0.000000</td>\n",
       "      <td>...</td>\n",
       "      <td>9.465000</td>\n",
       "      <td>0.000000</td>\n",
       "      <td>115.622500</td>\n",
       "      <td>0.0</td>\n",
       "      <td>1.0</td>\n",
       "      <td>0.0</td>\n",
       "      <td>0.0</td>\n",
       "      <td>0.0</td>\n",
       "      <td>0.000000</td>\n",
       "      <td>0.0</td>\n",
       "    </tr>\n",
       "    <tr>\n",
       "      <th>50%</th>\n",
       "      <td>6.961850e+05</td>\n",
       "      <td>8.873260e+05</td>\n",
       "      <td>10000.00000</td>\n",
       "      <td>10000.000000</td>\n",
       "      <td>9575.000000</td>\n",
       "      <td>13.610000</td>\n",
       "      <td>297.530000</td>\n",
       "      <td>54000.000000</td>\n",
       "      <td>14.290000</td>\n",
       "      <td>0.000000</td>\n",
       "      <td>...</td>\n",
       "      <td>180.500000</td>\n",
       "      <td>2.570000</td>\n",
       "      <td>241.260000</td>\n",
       "      <td>0.0</td>\n",
       "      <td>1.0</td>\n",
       "      <td>0.0</td>\n",
       "      <td>0.0</td>\n",
       "      <td>0.0</td>\n",
       "      <td>0.000000</td>\n",
       "      <td>0.0</td>\n",
       "    </tr>\n",
       "    <tr>\n",
       "      <th>75%</th>\n",
       "      <td>8.535468e+05</td>\n",
       "      <td>1.065093e+06</td>\n",
       "      <td>17000.00000</td>\n",
       "      <td>16000.000000</td>\n",
       "      <td>15000.000000</td>\n",
       "      <td>16.450000</td>\n",
       "      <td>463.275000</td>\n",
       "      <td>75000.000000</td>\n",
       "      <td>19.237500</td>\n",
       "      <td>0.000000</td>\n",
       "      <td>...</td>\n",
       "      <td>607.960000</td>\n",
       "      <td>9.561575</td>\n",
       "      <td>411.410000</td>\n",
       "      <td>0.0</td>\n",
       "      <td>1.0</td>\n",
       "      <td>0.0</td>\n",
       "      <td>0.0</td>\n",
       "      <td>0.0</td>\n",
       "      <td>0.000000</td>\n",
       "      <td>0.0</td>\n",
       "    </tr>\n",
       "    <tr>\n",
       "      <th>max</th>\n",
       "      <td>1.077430e+06</td>\n",
       "      <td>1.314167e+06</td>\n",
       "      <td>35000.00000</td>\n",
       "      <td>35000.000000</td>\n",
       "      <td>35000.000000</td>\n",
       "      <td>24.400000</td>\n",
       "      <td>1305.190000</td>\n",
       "      <td>840000.000000</td>\n",
       "      <td>29.850000</td>\n",
       "      <td>8.000000</td>\n",
       "      <td>...</td>\n",
       "      <td>29623.350000</td>\n",
       "      <td>7002.190000</td>\n",
       "      <td>12818.380000</td>\n",
       "      <td>0.0</td>\n",
       "      <td>1.0</td>\n",
       "      <td>0.0</td>\n",
       "      <td>0.0</td>\n",
       "      <td>0.0</td>\n",
       "      <td>2.000000</td>\n",
       "      <td>0.0</td>\n",
       "    </tr>\n",
       "  </tbody>\n",
       "</table>\n",
       "<p>8 rows × 33 columns</p>\n",
       "</div>"
      ],
      "text/plain": [
       "                 id     member_id    loan_amnt   funded_amnt  funded_amnt_inv  \\\n",
       "count  5.398000e+03  5.398000e+03   5398.00000   5398.000000      5398.000000   \n",
       "mean   6.955654e+05  8.646127e+05  12243.42349  11883.702297     10967.817088   \n",
       "std    2.173875e+05  2.741799e+05   8087.12192   7759.375996      7677.998799   \n",
       "min    6.141900e+04  8.035300e+04    900.00000    900.000000         0.000000   \n",
       "25%    5.273445e+05  6.819455e+05   6000.00000   5850.000000      5000.000000   \n",
       "50%    6.961850e+05  8.873260e+05  10000.00000  10000.000000      9575.000000   \n",
       "75%    8.535468e+05  1.065093e+06  17000.00000  16000.000000     15000.000000   \n",
       "max    1.077430e+06  1.314167e+06  35000.00000  35000.000000     35000.000000   \n",
       "\n",
       "          int_rate  installment     annual_inc          dti  delinq_2yrs  ...  \\\n",
       "count  5398.000000  5398.000000    5398.000000  5398.000000  5398.000000  ...   \n",
       "mean     13.882108   339.870923   63111.270791    13.978359     0.169878  ...   \n",
       "std       3.639362   217.134322   45314.605300     6.570895     0.534041  ...   \n",
       "min       5.420000    22.790000    4080.000000     0.000000     0.000000  ...   \n",
       "25%      11.460000   171.480000   38232.332500     9.050000     0.000000  ...   \n",
       "50%      13.610000   297.530000   54000.000000    14.290000     0.000000  ...   \n",
       "75%      16.450000   463.275000   75000.000000    19.237500     0.000000  ...   \n",
       "max      24.400000  1305.190000  840000.000000    29.850000     8.000000  ...   \n",
       "\n",
       "         recoveries  collection_recovery_fee  last_pymnt_amnt  \\\n",
       "count   5398.000000              5398.000000      5398.000000   \n",
       "mean     685.000623                89.135075       329.154329   \n",
       "std     1746.315653               392.288766       535.478993   \n",
       "min        0.000000                 0.000000         0.000000   \n",
       "25%        9.465000                 0.000000       115.622500   \n",
       "50%      180.500000                 2.570000       241.260000   \n",
       "75%      607.960000                 9.561575       411.410000   \n",
       "max    29623.350000              7002.190000     12818.380000   \n",
       "\n",
       "       collections_12_mths_ex_med  policy_code  acc_now_delinq  \\\n",
       "count                      5392.0       5398.0          5398.0   \n",
       "mean                          0.0          1.0             0.0   \n",
       "std                           0.0          0.0             0.0   \n",
       "min                           0.0          1.0             0.0   \n",
       "25%                           0.0          1.0             0.0   \n",
       "50%                           0.0          1.0             0.0   \n",
       "75%                           0.0          1.0             0.0   \n",
       "max                           0.0          1.0             0.0   \n",
       "\n",
       "       chargeoff_within_12_mths  delinq_amnt  pub_rec_bankruptcies  tax_liens  \n",
       "count                    5392.0       5398.0           5280.000000     5397.0  \n",
       "mean                        0.0          0.0              0.064205        0.0  \n",
       "std                         0.0          0.0              0.246681        0.0  \n",
       "min                         0.0          0.0              0.000000        0.0  \n",
       "25%                         0.0          0.0              0.000000        0.0  \n",
       "50%                         0.0          0.0              0.000000        0.0  \n",
       "75%                         0.0          0.0              0.000000        0.0  \n",
       "max                         0.0          0.0              2.000000        0.0  \n",
       "\n",
       "[8 rows x 33 columns]"
      ]
     },
     "execution_count": 32,
     "metadata": {},
     "output_type": "execute_result"
    }
   ],
   "source": [
    "#Create a df2 with annual income restricted to 1e6 and loan status == charged off for detecting outliers\n",
    "df2 = df1[(df1.annual_inc <1000000) & (df1.loan_status == 'Charged Off')]\n",
    "df2.head()\n",
    "df2.describe()\n"
   ]
  },
  {
   "cell_type": "markdown",
   "id": "d095161d",
   "metadata": {},
   "source": [
    "# Inference from the data above : The charged Off maximum annual income is 840000. We can remove the outliers of annual income above it."
   ]
  },
  {
   "cell_type": "code",
   "execution_count": 33,
   "id": "105becdd",
   "metadata": {},
   "outputs": [],
   "source": [
    "#Remove outliers above 840000 so that the focus will be on the representative information\n",
    "df1 = df1[df1.annual_inc <= 840000] "
   ]
  },
  {
   "cell_type": "code",
   "execution_count": 34,
   "id": "6b6d3257",
   "metadata": {},
   "outputs": [
    {
     "data": {
      "image/png": "[encoded data removed]",
      "text/plain": [
       "<Figure size 432x288 with 1 Axes>"
      ]
     },
     "metadata": {
      "needs_background": "light"
     },
     "output_type": "display_data"
    }
   ],
   "source": [
    "#Visualize data between loan_status and annual_inc after removal of outliers\n",
    "sns.boxplot(df1.annual_inc,df1.loan_status)\n",
    "plt.show()"
   ]
  },
  {
   "cell_type": "markdown",
   "id": "1da01e29",
   "metadata": {},
   "source": [
    "# Step3 :  Data Analysis"
   ]
  },
  {
   "cell_type": "markdown",
   "id": "e037776b",
   "metadata": {},
   "source": [
    "## Univariate Analysis"
   ]
  },
  {
   "cell_type": "code",
   "execution_count": 35,
   "id": "11d2ea94",
   "metadata": {},
   "outputs": [
    {
     "data": {
      "text/plain": [
       "<AxesSubplot:xlabel='loan_status', ylabel='count'>"
      ]
     },
     "execution_count": 35,
     "metadata": {},
     "output_type": "execute_result"
    },
    {
     "data": {
      "image/png": "[encoded data removed]",
      "text/plain": [
       "<Figure size 432x288 with 1 Axes>"
      ]
     },
     "metadata": {
      "needs_background": "light"
     },
     "output_type": "display_data"
    }
   ],
   "source": [
    "#Loan Status count categorical univariate analysis\n",
    "sns.countplot(x=\"loan_status\", data = df1)"
   ]
  },
  {
   "cell_type": "markdown",
   "id": "83732ee6",
   "metadata": {},
   "source": [
    "### Inference from the analysis above : The number of fully paid loans is much higher than charged Off"
   ]
  },
  {
   "cell_type": "code",
   "execution_count": 36,
   "id": "47e205fe",
   "metadata": {},
   "outputs": [
    {
     "data": {
      "text/plain": [
       "<AxesSubplot:>"
      ]
     },
     "execution_count": 36,
     "metadata": {},
     "output_type": "execute_result"
    },
    {
     "data": {
      "image/png": "[encoded data removed]",
      "text/plain": [
       "<Figure size 432x288 with 1 Axes>"
      ]
     },
     "metadata": {
      "needs_background": "light"
     },
     "output_type": "display_data"
    }
   ],
   "source": [
    "#Loan amount quantitative univariate analysis\n",
    "df1.loan_amnt.plot.box()"
   ]
  },
  {
   "cell_type": "code",
   "execution_count": 37,
   "id": "882f6131",
   "metadata": {},
   "outputs": [
    {
     "data": {
      "text/plain": [
       "count    37524.000000\n",
       "mean     11118.582107\n",
       "std       7353.387051\n",
       "min        500.000000\n",
       "25%       5500.000000\n",
       "50%      10000.000000\n",
       "75%      15000.000000\n",
       "max      35000.000000\n",
       "Name: loan_amnt, dtype: float64"
      ]
     },
     "execution_count": 37,
     "metadata": {},
     "output_type": "execute_result"
    }
   ],
   "source": [
    "df1.loan_amnt.describe()"
   ]
  },
  {
   "cell_type": "markdown",
   "id": "259f4bbb",
   "metadata": {},
   "source": [
    "### Inference from the analysis above : Loan amount has wide range of values max being 35000 , min being 500 and 75th percentile lies at 15000."
   ]
  },
  {
   "cell_type": "code",
   "execution_count": 38,
   "id": "818a497f",
   "metadata": {},
   "outputs": [
    {
     "data": {
      "text/plain": [
       "count     37524\n",
       "unique        7\n",
       "top           B\n",
       "freq      11355\n",
       "Name: grade, dtype: object"
      ]
     },
     "execution_count": 38,
     "metadata": {},
     "output_type": "execute_result"
    }
   ],
   "source": [
    "#Univariate analysis for 'grade' \n",
    "df1.grade.describe()"
   ]
  },
  {
   "cell_type": "code",
   "execution_count": 39,
   "id": "a1e57a05",
   "metadata": {},
   "outputs": [
    {
     "data": {
      "text/plain": [
       "<AxesSubplot:xlabel='grade', ylabel='count'>"
      ]
     },
     "execution_count": 39,
     "metadata": {},
     "output_type": "execute_result"
    },
    {
     "data": {
      "image/png": "[encoded data removed]",
      "text/plain": [
       "<Figure size 432x288 with 1 Axes>"
      ]
     },
     "metadata": {
      "needs_background": "light"
     },
     "output_type": "display_data"
    }
   ],
   "source": [
    "sns.countplot(x=\"grade\",data= df1)"
   ]
  },
  {
   "cell_type": "markdown",
   "id": "7c128280",
   "metadata": {},
   "source": [
    "### Inference from the analysis above : People in high risk group finds difficult to get loans."
   ]
  },
  {
   "cell_type": "code",
   "execution_count": 40,
   "id": "4e52d9b4",
   "metadata": {},
   "outputs": [
    {
     "data": {
      "text/plain": [
       "<AxesSubplot:xlabel='term', ylabel='count'>"
      ]
     },
     "execution_count": 40,
     "metadata": {},
     "output_type": "execute_result"
    },
    {
     "data": {
      "image/png": "[encoded data removed]",
      "text/plain": [
       "<Figure size 432x288 with 1 Axes>"
      ]
     },
     "metadata": {
      "needs_background": "light"
     },
     "output_type": "display_data"
    }
   ],
   "source": [
    "#Univariate analysis for 'term'\n",
    "sns.countplot(x='term',data=df1)"
   ]
  },
  {
   "cell_type": "markdown",
   "id": "681f11fe",
   "metadata": {},
   "source": [
    "### Inference from the above analysis : Short terms loans are more compare to long term."
   ]
  },
  {
   "cell_type": "code",
   "execution_count": 41,
   "id": "73330a57",
   "metadata": {},
   "outputs": [
    {
     "data": {
      "text/plain": [
       "<AxesSubplot:xlabel='count', ylabel='emp_length'>"
      ]
     },
     "execution_count": 41,
     "metadata": {},
     "output_type": "execute_result"
    },
    {
     "data": {
      "image/png": "[encoded data removed]",
      "text/plain": [
       "<Figure size 432x288 with 1 Axes>"
      ]
     },
     "metadata": {
      "needs_background": "light"
     },
     "output_type": "display_data"
    }
   ],
   "source": [
    "#univariate amalysis of emp_length\n",
    "sns.countplot(y='emp_length', data=df1)"
   ]
  },
  {
   "cell_type": "markdown",
   "id": "03e16640",
   "metadata": {},
   "source": [
    "### Inference from the analysis above : People with 10+ years experience has taken more loans."
   ]
  },
  {
   "cell_type": "markdown",
   "id": "18f0088a",
   "metadata": {},
   "source": [
    "## Segmented Univariate Analysis"
   ]
  },
  {
   "cell_type": "code",
   "execution_count": 42,
   "id": "15633ad3",
   "metadata": {},
   "outputs": [
    {
     "data": {
      "image/png": "[encoded data removed]",
      "text/plain": [
       "<Figure size 432x288 with 1 Axes>"
      ]
     },
     "metadata": {
      "needs_background": "light"
     },
     "output_type": "display_data"
    }
   ],
   "source": [
    "#Segmented Univariate : Analysis of the data between difference segments of the same variable\n",
    "sns.boxplot(df1.loan_amnt,df1.loan_status)\n",
    "plt.show()"
   ]
  },
  {
   "cell_type": "markdown",
   "id": "087c70e1",
   "metadata": {},
   "source": [
    "### Inference from the data above : The median of the loan amount charged off is almost equal to the median of the Fully paid. Moreover, the upper quartile indicates that charged off happens on higher loan amounts."
   ]
  },
  {
   "cell_type": "code",
   "execution_count": 43,
   "id": "e36e1f0a",
   "metadata": {
    "scrolled": true
   },
   "outputs": [
    {
     "data": {
      "text/plain": [
       "<AxesSubplot:xlabel='loan_status'>"
      ]
     },
     "execution_count": 43,
     "metadata": {},
     "output_type": "execute_result"
    },
    {
     "data": {
      "image/png": "[encoded data removed]",
      "text/plain": [
       "<Figure size 432x288 with 1 Axes>"
      ]
     },
     "metadata": {
      "needs_background": "light"
     },
     "output_type": "display_data"
    }
   ],
   "source": [
    "# Segmented Univariate : Loan status segments analyzed against Annual income using median value bar plot\n",
    "df1.groupby(['loan_status'])['annual_inc'].median().plot.bar()"
   ]
  },
  {
   "cell_type": "markdown",
   "id": "2a6a8dca",
   "metadata": {},
   "source": [
    "### Inference from the data above : There is not much to infer from the median bar plots, hence it would require the process of binning and further analysis"
   ]
  },
  {
   "cell_type": "code",
   "execution_count": 44,
   "id": "792c7f1b",
   "metadata": {},
   "outputs": [],
   "source": [
    "#Create a new variable Income range 'incomeRange' using the binning process.\n",
    "# The qcut method is used to bin the annual income distributed over wide range into alomost equally sized bins.\n",
    "df1['incomeRange']=pd.qcut(df1.annual_inc,[0,0.33,0.66,1],[\"L\",\"M\",\"H\"])"
   ]
  },
  {
   "cell_type": "code",
   "execution_count": 45,
   "id": "40ed5927",
   "metadata": {},
   "outputs": [
    {
     "data": {
      "text/plain": [
       "H    12668\n",
       "L    12482\n",
       "M    12374\n",
       "Name: incomeRange, dtype: int64"
      ]
     },
     "execution_count": 45,
     "metadata": {},
     "output_type": "execute_result"
    }
   ],
   "source": [
    "df1.incomeRange.value_counts()"
   ]
  },
  {
   "cell_type": "code",
   "execution_count": 46,
   "id": "3804a9a5",
   "metadata": {},
   "outputs": [
    {
     "data": {
      "text/plain": [
       "<AxesSubplot:xlabel='incomeRange'>"
      ]
     },
     "execution_count": 46,
     "metadata": {},
     "output_type": "execute_result"
    },
    {
     "data": {
      "image/png": "[encoded data removed]",
      "text/plain": [
       "<Figure size 432x288 with 1 Axes>"
      ]
     },
     "metadata": {
      "needs_background": "light"
     },
     "output_type": "display_data"
    }
   ],
   "source": [
    "# Segmented Univariate : Segments of Annual Income is analyzed against the Loan status \n",
    "dfIncLoanstatus=df1[['incomeRange','loan_status']]\n",
    "resIncLoanstatus=pd.pivot_table(data=dfIncLoanstatus,index=['incomeRange'],columns =['loan_status'],aggfunc=len)\n",
    "resIncLoanstatus.head()\n",
    "resIncLoanstatus.plot(kind=\"bar\")"
   ]
  },
  {
   "cell_type": "markdown",
   "id": "7ce32887",
   "metadata": {},
   "source": [
    "### Inference from the above analysis : When the income range increases the charged Off cases decreases."
   ]
  },
  {
   "cell_type": "markdown",
   "id": "e24805ef",
   "metadata": {},
   "source": [
    "## Bivariate Analysis :"
   ]
  },
  {
   "cell_type": "markdown",
   "id": "464668e0",
   "metadata": {},
   "source": [
    "# Analyzing Loan amount against Income range and Loan Status"
   ]
  },
  {
   "cell_type": "code",
   "execution_count": 47,
   "id": "db944b4d",
   "metadata": {},
   "outputs": [
    {
     "data": {
      "text/html": [
       "<div>\n",
       "<style scoped>\n",
       "    .dataframe tbody tr th:only-of-type {\n",
       "        vertical-align: middle;\n",
       "    }\n",
       "\n",
       "    .dataframe tbody tr th {\n",
       "        vertical-align: top;\n",
       "    }\n",
       "\n",
       "    .dataframe thead th {\n",
       "        text-align: right;\n",
       "    }\n",
       "</style>\n",
       "<table border=\"1\" class=\"dataframe\">\n",
       "  <thead>\n",
       "    <tr style=\"text-align: right;\">\n",
       "      <th>incomeRange</th>\n",
       "      <th>L</th>\n",
       "      <th>M</th>\n",
       "      <th>H</th>\n",
       "      <th>All</th>\n",
       "    </tr>\n",
       "    <tr>\n",
       "      <th>loan_status</th>\n",
       "      <th></th>\n",
       "      <th></th>\n",
       "      <th></th>\n",
       "      <th></th>\n",
       "    </tr>\n",
       "  </thead>\n",
       "  <tbody>\n",
       "    <tr>\n",
       "      <th>Charged Off</th>\n",
       "      <td>17452350</td>\n",
       "      <td>22976975</td>\n",
       "      <td>25660675</td>\n",
       "      <td>66090000</td>\n",
       "    </tr>\n",
       "    <tr>\n",
       "      <th>Fully Paid</th>\n",
       "      <td>77287325</td>\n",
       "      <td>112186475</td>\n",
       "      <td>161649875</td>\n",
       "      <td>351123675</td>\n",
       "    </tr>\n",
       "    <tr>\n",
       "      <th>All</th>\n",
       "      <td>94739675</td>\n",
       "      <td>135163450</td>\n",
       "      <td>187310550</td>\n",
       "      <td>417213675</td>\n",
       "    </tr>\n",
       "  </tbody>\n",
       "</table>\n",
       "</div>"
      ],
      "text/plain": [
       "incomeRange         L          M          H        All\n",
       "loan_status                                           \n",
       "Charged Off  17452350   22976975   25660675   66090000\n",
       "Fully Paid   77287325  112186475  161649875  351123675\n",
       "All          94739675  135163450  187310550  417213675"
      ]
     },
     "execution_count": 47,
     "metadata": {},
     "output_type": "execute_result"
    }
   ],
   "source": [
    "#Draw a pivot table using Loan status, Income range and the loan amount and assign the result to 'res'\n",
    "res=pd.pivot_table(data=df1,index=\"loan_status\",columns =\"incomeRange\",values=\"loan_amnt\",aggfunc=sum,margins = True,fill_value = 0)\n",
    "res.head()"
   ]
  },
  {
   "cell_type": "code",
   "execution_count": 48,
   "id": "8df07f1c",
   "metadata": {},
   "outputs": [
    {
     "data": {
      "text/html": [
       "<div>\n",
       "<style scoped>\n",
       "    .dataframe tbody tr th:only-of-type {\n",
       "        vertical-align: middle;\n",
       "    }\n",
       "\n",
       "    .dataframe tbody tr th {\n",
       "        vertical-align: top;\n",
       "    }\n",
       "\n",
       "    .dataframe thead th {\n",
       "        text-align: right;\n",
       "    }\n",
       "</style>\n",
       "<table border=\"1\" class=\"dataframe\">\n",
       "  <thead>\n",
       "    <tr style=\"text-align: right;\">\n",
       "      <th>incomeRange</th>\n",
       "      <th>L</th>\n",
       "      <th>M</th>\n",
       "      <th>H</th>\n",
       "      <th>All</th>\n",
       "    </tr>\n",
       "    <tr>\n",
       "      <th>loan_status</th>\n",
       "      <th></th>\n",
       "      <th></th>\n",
       "      <th></th>\n",
       "      <th></th>\n",
       "    </tr>\n",
       "  </thead>\n",
       "  <tbody>\n",
       "    <tr>\n",
       "      <th>Charged Off</th>\n",
       "      <td>26.406945</td>\n",
       "      <td>34.766190</td>\n",
       "      <td>38.826865</td>\n",
       "      <td>100.0</td>\n",
       "    </tr>\n",
       "    <tr>\n",
       "      <th>Fully Paid</th>\n",
       "      <td>22.011425</td>\n",
       "      <td>31.950701</td>\n",
       "      <td>46.037874</td>\n",
       "      <td>100.0</td>\n",
       "    </tr>\n",
       "    <tr>\n",
       "      <th>All</th>\n",
       "      <td>22.707711</td>\n",
       "      <td>32.396697</td>\n",
       "      <td>44.895592</td>\n",
       "      <td>100.0</td>\n",
       "    </tr>\n",
       "  </tbody>\n",
       "</table>\n",
       "</div>"
      ],
      "text/plain": [
       "incomeRange          L          M          H    All\n",
       "loan_status                                        \n",
       "Charged Off  26.406945  34.766190  38.826865  100.0\n",
       "Fully Paid   22.011425  31.950701  46.037874  100.0\n",
       "All          22.707711  32.396697  44.895592  100.0"
      ]
     },
     "execution_count": 48,
     "metadata": {},
     "output_type": "execute_result"
    }
   ],
   "source": [
    "# Calculate percentage of Loan status among different income ranges and assign the result to a pivot table resPer\n",
    "resPer = (res.div(res.iloc[:,-1],axis=0)*100)\n",
    "resPer.head()"
   ]
  },
  {
   "cell_type": "code",
   "execution_count": 49,
   "id": "299af64c",
   "metadata": {},
   "outputs": [],
   "source": [
    "##Apply customisations\n",
    "resPlt = resPer.drop(index='All',axis=0)\n",
    "resPlt = resPlt.drop(columns='All',axis=1)"
   ]
  },
  {
   "cell_type": "code",
   "execution_count": 50,
   "id": "c7122204",
   "metadata": {},
   "outputs": [
    {
     "data": {
      "text/plain": [
       "<AxesSubplot:xlabel='incomeRange', ylabel='loan_status'>"
      ]
     },
     "execution_count": 50,
     "metadata": {},
     "output_type": "execute_result"
    },
    {
     "data": {
      "image/png": "[encoded data removed]",
      "text/plain": [
       "<Figure size 432x288 with 2 Axes>"
      ]
     },
     "metadata": {
      "needs_background": "light"
     },
     "output_type": "display_data"
    }
   ],
   "source": [
    "sns.heatmap(resPlt ,cmap=\"Greens\",annot=True,fmt='g')"
   ]
  },
  {
   "cell_type": "markdown",
   "id": "60d7250d",
   "metadata": {},
   "source": [
    "# Inference from the data above : The percentage of the loan amount Charged Off is in the increasing from the Lower income to the Higher income group. "
   ]
  },
  {
   "cell_type": "code",
   "execution_count": 51,
   "id": "be610893",
   "metadata": {},
   "outputs": [],
   "source": [
    "#loan_status for different purpose over median loan amount\n",
    "resp=pd.pivot_table(data=df1,index=\"purpose\",columns =\"loan_status\",values=\"loan_amnt\",aggfunc=lambda x: np.quantile(x,0.5))"
   ]
  },
  {
   "cell_type": "code",
   "execution_count": 52,
   "id": "3aa621af",
   "metadata": {},
   "outputs": [
    {
     "data": {
      "text/plain": [
       "<AxesSubplot:xlabel='loan_status', ylabel='purpose'>"
      ]
     },
     "execution_count": 52,
     "metadata": {},
     "output_type": "execute_result"
    },
    {
     "data": {
      "image/png": "[encoded data removed]",
      "text/plain": [
       "<Figure size 432x288 with 2 Axes>"
      ]
     },
     "metadata": {
      "needs_background": "light"
     },
     "output_type": "display_data"
    }
   ],
   "source": [
    "sns.heatmap(resp,cmap=\"Greens\",annot=True,fmt='g')"
   ]
  },
  {
   "cell_type": "markdown",
   "id": "4c741762",
   "metadata": {},
   "source": [
    "### Inference from the analysis above : The loan_amount taken for creditcard,debt_consolidation,small_business are among the top Charged Off"
   ]
  },
  {
   "cell_type": "markdown",
   "id": "b28559ee",
   "metadata": {},
   "source": [
    "# Analysis of Purpose against loan status"
   ]
  },
  {
   "cell_type": "code",
   "execution_count": 53,
   "id": "ac19cd79",
   "metadata": {},
   "outputs": [
    {
     "data": {
      "text/html": [
       "<div>\n",
       "<style scoped>\n",
       "    .dataframe tbody tr th:only-of-type {\n",
       "        vertical-align: middle;\n",
       "    }\n",
       "\n",
       "    .dataframe tbody tr th {\n",
       "        vertical-align: top;\n",
       "    }\n",
       "\n",
       "    .dataframe thead th {\n",
       "        text-align: right;\n",
       "    }\n",
       "</style>\n",
       "<table border=\"1\" class=\"dataframe\">\n",
       "  <thead>\n",
       "    <tr style=\"text-align: right;\">\n",
       "      <th></th>\n",
       "      <th>purpose</th>\n",
       "      <th>incomeRange</th>\n",
       "      <th>loan_status</th>\n",
       "      <th>loan_amnt</th>\n",
       "    </tr>\n",
       "  </thead>\n",
       "  <tbody>\n",
       "    <tr>\n",
       "      <th>1</th>\n",
       "      <td>car</td>\n",
       "      <td>L</td>\n",
       "      <td>Charged Off</td>\n",
       "      <td>2500</td>\n",
       "    </tr>\n",
       "    <tr>\n",
       "      <th>8</th>\n",
       "      <td>small_business</td>\n",
       "      <td>L</td>\n",
       "      <td>Charged Off</td>\n",
       "      <td>5600</td>\n",
       "    </tr>\n",
       "    <tr>\n",
       "      <th>9</th>\n",
       "      <td>other</td>\n",
       "      <td>L</td>\n",
       "      <td>Charged Off</td>\n",
       "      <td>5375</td>\n",
       "    </tr>\n",
       "    <tr>\n",
       "      <th>12</th>\n",
       "      <td>debt_consolidation</td>\n",
       "      <td>L</td>\n",
       "      <td>Charged Off</td>\n",
       "      <td>9000</td>\n",
       "    </tr>\n",
       "    <tr>\n",
       "      <th>14</th>\n",
       "      <td>other</td>\n",
       "      <td>H</td>\n",
       "      <td>Charged Off</td>\n",
       "      <td>10000</td>\n",
       "    </tr>\n",
       "  </tbody>\n",
       "</table>\n",
       "</div>"
      ],
      "text/plain": [
       "               purpose incomeRange  loan_status  loan_amnt\n",
       "1                  car           L  Charged Off       2500\n",
       "8       small_business           L  Charged Off       5600\n",
       "9                other           L  Charged Off       5375\n",
       "12  debt_consolidation           L  Charged Off       9000\n",
       "14               other           H  Charged Off      10000"
      ]
     },
     "execution_count": 53,
     "metadata": {},
     "output_type": "execute_result"
    }
   ],
   "source": [
    "dfannualdefault=df1[['purpose','incomeRange','loan_status','loan_amnt']]\n",
    "dfannualdefault=dfannualdefault[dfannualdefault['loan_status']=='Charged Off']\n",
    "dfannualdefault.head()\n"
   ]
  },
  {
   "cell_type": "code",
   "execution_count": 54,
   "id": "b8a0016d",
   "metadata": {},
   "outputs": [
    {
     "data": {
      "image/png": "[encoded data removed]",
      "text/plain": [
       "<Figure size 432x288 with 1 Axes>"
      ]
     },
     "metadata": {
      "needs_background": "light"
     },
     "output_type": "display_data"
    }
   ],
   "source": [
    "dfannualdefault.groupby(['purpose'])['loan_status'].value_counts().plot.barh()\n",
    "#The largest number of loan is taken for debt_consolidation\n",
    "plt.show()"
   ]
  },
  {
   "cell_type": "markdown",
   "id": "139cff28",
   "metadata": {},
   "source": [
    "### Inference from the above analysis : The number of defaulters are more for debt_consolidation loan applications followed by other ,small business ,credit card. "
   ]
  },
  {
   "cell_type": "markdown",
   "id": "d213e1c9",
   "metadata": {},
   "source": [
    "# Analysis of Loan amount against purpose and loan status"
   ]
  },
  {
   "cell_type": "code",
   "execution_count": 55,
   "id": "9fdc7769",
   "metadata": {},
   "outputs": [],
   "source": [
    "resp_la =pd.pivot_table(data=dfannualdefault,index=\"purpose\",columns =\"loan_status\",values=\"loan_amnt\",aggfunc=lambda x: np.quantile(x,0.50))"
   ]
  },
  {
   "cell_type": "code",
   "execution_count": 56,
   "id": "3e3b68d3",
   "metadata": {},
   "outputs": [
    {
     "data": {
      "text/plain": [
       "<AxesSubplot:xlabel='purpose'>"
      ]
     },
     "execution_count": 56,
     "metadata": {},
     "output_type": "execute_result"
    },
    {
     "data": {
      "image/png": "[encoded data removed]",
      "text/plain": [
       "<Figure size 432x288 with 1 Axes>"
      ]
     },
     "metadata": {
      "needs_background": "light"
     },
     "output_type": "display_data"
    }
   ],
   "source": [
    "#sns.heatmap(resp_la,cmap=\"Greens\",annot=True,fmt='g')\n",
    "resp_la.plot(kind=\"bar\")"
   ]
  },
  {
   "cell_type": "markdown",
   "id": "969c290e",
   "metadata": {},
   "source": [
    "### Inference from above analysis : The median loan amount charged off is higher for loans taken against small_business,debt_consolidation,credit card."
   ]
  },
  {
   "cell_type": "markdown",
   "id": "baadda0a",
   "metadata": {},
   "source": [
    "# Analysis of Percentage of Purpose against Annual income range and loan status"
   ]
  },
  {
   "cell_type": "code",
   "execution_count": 57,
   "id": "9a8399ff",
   "metadata": {},
   "outputs": [
    {
     "data": {
      "text/html": [
       "<div>\n",
       "<style scoped>\n",
       "    .dataframe tbody tr th:only-of-type {\n",
       "        vertical-align: middle;\n",
       "    }\n",
       "\n",
       "    .dataframe tbody tr th {\n",
       "        vertical-align: top;\n",
       "    }\n",
       "\n",
       "    .dataframe thead th {\n",
       "        text-align: right;\n",
       "    }\n",
       "</style>\n",
       "<table border=\"1\" class=\"dataframe\">\n",
       "  <thead>\n",
       "    <tr style=\"text-align: right;\">\n",
       "      <th></th>\n",
       "      <th>incomeRange</th>\n",
       "      <th>L</th>\n",
       "      <th>M</th>\n",
       "      <th>H</th>\n",
       "      <th>All</th>\n",
       "    </tr>\n",
       "    <tr>\n",
       "      <th>purpose</th>\n",
       "      <th>loan_status</th>\n",
       "      <th></th>\n",
       "      <th></th>\n",
       "      <th></th>\n",
       "      <th></th>\n",
       "    </tr>\n",
       "  </thead>\n",
       "  <tbody>\n",
       "    <tr>\n",
       "      <th>car</th>\n",
       "      <th>Charged Off</th>\n",
       "      <td>73</td>\n",
       "      <td>46</td>\n",
       "      <td>36</td>\n",
       "      <td>155</td>\n",
       "    </tr>\n",
       "    <tr>\n",
       "      <th>credit_card</th>\n",
       "      <th>Charged Off</th>\n",
       "      <td>186</td>\n",
       "      <td>162</td>\n",
       "      <td>162</td>\n",
       "      <td>510</td>\n",
       "    </tr>\n",
       "    <tr>\n",
       "      <th>debt_consolidation</th>\n",
       "      <th>Charged Off</th>\n",
       "      <td>1016</td>\n",
       "      <td>952</td>\n",
       "      <td>710</td>\n",
       "      <td>2678</td>\n",
       "    </tr>\n",
       "    <tr>\n",
       "      <th>educational</th>\n",
       "      <th>Charged Off</th>\n",
       "      <td>32</td>\n",
       "      <td>10</td>\n",
       "      <td>10</td>\n",
       "      <td>52</td>\n",
       "    </tr>\n",
       "    <tr>\n",
       "      <th>home_improvement</th>\n",
       "      <th>Charged Off</th>\n",
       "      <td>92</td>\n",
       "      <td>110</td>\n",
       "      <td>128</td>\n",
       "      <td>330</td>\n",
       "    </tr>\n",
       "  </tbody>\n",
       "</table>\n",
       "</div>"
      ],
      "text/plain": [
       "incomeRange                        L    M    H   All\n",
       "purpose            loan_status                      \n",
       "car                Charged Off    73   46   36   155\n",
       "credit_card        Charged Off   186  162  162   510\n",
       "debt_consolidation Charged Off  1016  952  710  2678\n",
       "educational        Charged Off    32   10   10    52\n",
       "home_improvement   Charged Off    92  110  128   330"
      ]
     },
     "execution_count": 57,
     "metadata": {},
     "output_type": "execute_result"
    }
   ],
   "source": [
    "dfannualdefaultLst=df1[['purpose','incomeRange','loan_status']]\n",
    "dfannualdefaultLst=dfannualdefaultLst[dfannualdefaultLst['loan_status']=='Charged Off']\n",
    "dfannualdefaultLst.head()\n",
    "resannualLst=pd.pivot_table(data=dfannualdefaultLst,index=[\"purpose\",\"loan_status\"],columns =\"incomeRange\",aggfunc=len,margins=True,fill_value =0)\n",
    "resannualLst.head()"
   ]
  },
  {
   "cell_type": "code",
   "execution_count": 58,
   "id": "80b92084",
   "metadata": {},
   "outputs": [
    {
     "data": {
      "text/html": [
       "<div>\n",
       "<style scoped>\n",
       "    .dataframe tbody tr th:only-of-type {\n",
       "        vertical-align: middle;\n",
       "    }\n",
       "\n",
       "    .dataframe tbody tr th {\n",
       "        vertical-align: top;\n",
       "    }\n",
       "\n",
       "    .dataframe thead th {\n",
       "        text-align: right;\n",
       "    }\n",
       "</style>\n",
       "<table border=\"1\" class=\"dataframe\">\n",
       "  <thead>\n",
       "    <tr style=\"text-align: right;\">\n",
       "      <th></th>\n",
       "      <th>incomeRange</th>\n",
       "      <th>L</th>\n",
       "      <th>M</th>\n",
       "      <th>H</th>\n",
       "      <th>All</th>\n",
       "    </tr>\n",
       "    <tr>\n",
       "      <th>purpose</th>\n",
       "      <th>loan_status</th>\n",
       "      <th></th>\n",
       "      <th></th>\n",
       "      <th></th>\n",
       "      <th></th>\n",
       "    </tr>\n",
       "  </thead>\n",
       "  <tbody>\n",
       "    <tr>\n",
       "      <th>renewable_energy</th>\n",
       "      <th>Charged Off</th>\n",
       "      <td>10</td>\n",
       "      <td>2</td>\n",
       "      <td>6</td>\n",
       "      <td>18</td>\n",
       "    </tr>\n",
       "    <tr>\n",
       "      <th>small_business</th>\n",
       "      <th>Charged Off</th>\n",
       "      <td>138</td>\n",
       "      <td>177</td>\n",
       "      <td>147</td>\n",
       "      <td>462</td>\n",
       "    </tr>\n",
       "    <tr>\n",
       "      <th>vacation</th>\n",
       "      <th>Charged Off</th>\n",
       "      <td>25</td>\n",
       "      <td>17</td>\n",
       "      <td>8</td>\n",
       "      <td>50</td>\n",
       "    </tr>\n",
       "    <tr>\n",
       "      <th>wedding</th>\n",
       "      <th>Charged Off</th>\n",
       "      <td>33</td>\n",
       "      <td>33</td>\n",
       "      <td>26</td>\n",
       "      <td>92</td>\n",
       "    </tr>\n",
       "    <tr>\n",
       "      <th>All</th>\n",
       "      <th></th>\n",
       "      <td>2107</td>\n",
       "      <td>1811</td>\n",
       "      <td>1480</td>\n",
       "      <td>5398</td>\n",
       "    </tr>\n",
       "  </tbody>\n",
       "</table>\n",
       "</div>"
      ],
      "text/plain": [
       "incomeRange                      L     M     H   All\n",
       "purpose          loan_status                        \n",
       "renewable_energy Charged Off    10     2     6    18\n",
       "small_business   Charged Off   138   177   147   462\n",
       "vacation         Charged Off    25    17     8    50\n",
       "wedding          Charged Off    33    33    26    92\n",
       "All                           2107  1811  1480  5398"
      ]
     },
     "execution_count": 58,
     "metadata": {},
     "output_type": "execute_result"
    }
   ],
   "source": [
    "resannualLst.tail()"
   ]
  },
  {
   "cell_type": "code",
   "execution_count": 59,
   "id": "8b85a93b",
   "metadata": {},
   "outputs": [
    {
     "data": {
      "text/plain": [
       "L     M     H     All \n",
       "10    2     6     18      1\n",
       "22    15    22    59      1\n",
       "25    17    8     50      1\n",
       "32    10    10    52      1\n",
       "33    33    26    92      1\n",
       "39    33    29    101     1\n",
       "49    21    14    84      1\n",
       "73    46    36    155     1\n",
       "92    110   128   330     1\n",
       "112   61    38    211     1\n",
       "138   177   147   462     1\n",
       "186   162   162   510     1\n",
       "280   172   144   596     1\n",
       "1016  952   710   2678    1\n",
       "2107  1811  1480  5398    1\n",
       "dtype: int64"
      ]
     },
     "execution_count": 59,
     "metadata": {},
     "output_type": "execute_result"
    }
   ],
   "source": [
    "resannualLst.value_counts()"
   ]
  },
  {
   "cell_type": "code",
   "execution_count": 60,
   "id": "4a5af601",
   "metadata": {},
   "outputs": [],
   "source": [
    "resannualPer = (resannualLst.div(resannualLst.iloc[:,-1],axis=0)*100)"
   ]
  },
  {
   "cell_type": "code",
   "execution_count": 61,
   "id": "2f660b16",
   "metadata": {},
   "outputs": [
    {
     "data": {
      "text/html": [
       "<div>\n",
       "<style scoped>\n",
       "    .dataframe tbody tr th:only-of-type {\n",
       "        vertical-align: middle;\n",
       "    }\n",
       "\n",
       "    .dataframe tbody tr th {\n",
       "        vertical-align: top;\n",
       "    }\n",
       "\n",
       "    .dataframe thead th {\n",
       "        text-align: right;\n",
       "    }\n",
       "</style>\n",
       "<table border=\"1\" class=\"dataframe\">\n",
       "  <thead>\n",
       "    <tr style=\"text-align: right;\">\n",
       "      <th></th>\n",
       "      <th>incomeRange</th>\n",
       "      <th>L</th>\n",
       "      <th>M</th>\n",
       "      <th>H</th>\n",
       "      <th>All</th>\n",
       "    </tr>\n",
       "    <tr>\n",
       "      <th>purpose</th>\n",
       "      <th>loan_status</th>\n",
       "      <th></th>\n",
       "      <th></th>\n",
       "      <th></th>\n",
       "      <th></th>\n",
       "    </tr>\n",
       "  </thead>\n",
       "  <tbody>\n",
       "    <tr>\n",
       "      <th>car</th>\n",
       "      <th>Charged Off</th>\n",
       "      <td>47.096774</td>\n",
       "      <td>29.677419</td>\n",
       "      <td>23.225806</td>\n",
       "      <td>100.0</td>\n",
       "    </tr>\n",
       "    <tr>\n",
       "      <th>credit_card</th>\n",
       "      <th>Charged Off</th>\n",
       "      <td>36.470588</td>\n",
       "      <td>31.764706</td>\n",
       "      <td>31.764706</td>\n",
       "      <td>100.0</td>\n",
       "    </tr>\n",
       "    <tr>\n",
       "      <th>debt_consolidation</th>\n",
       "      <th>Charged Off</th>\n",
       "      <td>37.938760</td>\n",
       "      <td>35.548917</td>\n",
       "      <td>26.512323</td>\n",
       "      <td>100.0</td>\n",
       "    </tr>\n",
       "    <tr>\n",
       "      <th>educational</th>\n",
       "      <th>Charged Off</th>\n",
       "      <td>61.538462</td>\n",
       "      <td>19.230769</td>\n",
       "      <td>19.230769</td>\n",
       "      <td>100.0</td>\n",
       "    </tr>\n",
       "    <tr>\n",
       "      <th>home_improvement</th>\n",
       "      <th>Charged Off</th>\n",
       "      <td>27.878788</td>\n",
       "      <td>33.333333</td>\n",
       "      <td>38.787879</td>\n",
       "      <td>100.0</td>\n",
       "    </tr>\n",
       "  </tbody>\n",
       "</table>\n",
       "</div>"
      ],
      "text/plain": [
       "incomeRange                             L          M          H    All\n",
       "purpose            loan_status                                        \n",
       "car                Charged Off  47.096774  29.677419  23.225806  100.0\n",
       "credit_card        Charged Off  36.470588  31.764706  31.764706  100.0\n",
       "debt_consolidation Charged Off  37.938760  35.548917  26.512323  100.0\n",
       "educational        Charged Off  61.538462  19.230769  19.230769  100.0\n",
       "home_improvement   Charged Off  27.878788  33.333333  38.787879  100.0"
      ]
     },
     "execution_count": 61,
     "metadata": {},
     "output_type": "execute_result"
    }
   ],
   "source": [
    "resannualPer.head()"
   ]
  },
  {
   "cell_type": "code",
   "execution_count": 62,
   "id": "08ad6a63",
   "metadata": {},
   "outputs": [],
   "source": [
    "##Apply customisations\n",
    "resannualPerPlt = resannualPer.drop(index='All',axis=0)\n",
    "resannualPerPlt1 = resannualPerPlt.drop(resannualPerPlt.columns[-1],axis=1)"
   ]
  },
  {
   "cell_type": "code",
   "execution_count": 63,
   "id": "18dcecf8",
   "metadata": {},
   "outputs": [
    {
     "data": {
      "text/plain": [
       "<AxesSubplot:ylabel='purpose,loan_status'>"
      ]
     },
     "execution_count": 63,
     "metadata": {},
     "output_type": "execute_result"
    },
    {
     "data": {
      "image/png": "[encoded data removed]",
      "text/plain": [
       "<Figure size 432x288 with 1 Axes>"
      ]
     },
     "metadata": {
      "needs_background": "light"
     },
     "output_type": "display_data"
    }
   ],
   "source": [
    "resannualPerPlt1.plot(kind=\"barh\")"
   ]
  },
  {
   "cell_type": "markdown",
   "id": "551d9fa5",
   "metadata": {},
   "source": [
    "### Inference from the data above : On percentage analysis,Low income group creates more charge_offs when they apply for educational,moving,renewable energy loans."
   ]
  },
  {
   "cell_type": "code",
   "execution_count": 64,
   "id": "20723909",
   "metadata": {},
   "outputs": [
    {
     "data": {
      "text/html": [
       "<div>\n",
       "<style scoped>\n",
       "    .dataframe tbody tr th:only-of-type {\n",
       "        vertical-align: middle;\n",
       "    }\n",
       "\n",
       "    .dataframe tbody tr th {\n",
       "        vertical-align: top;\n",
       "    }\n",
       "\n",
       "    .dataframe thead th {\n",
       "        text-align: right;\n",
       "    }\n",
       "</style>\n",
       "<table border=\"1\" class=\"dataframe\">\n",
       "  <thead>\n",
       "    <tr style=\"text-align: right;\">\n",
       "      <th></th>\n",
       "      <th>incomeRange</th>\n",
       "      <th>L</th>\n",
       "      <th>M</th>\n",
       "      <th>H</th>\n",
       "      <th>All</th>\n",
       "    </tr>\n",
       "    <tr>\n",
       "      <th>purpose</th>\n",
       "      <th>loan_status</th>\n",
       "      <th></th>\n",
       "      <th></th>\n",
       "      <th></th>\n",
       "      <th></th>\n",
       "    </tr>\n",
       "  </thead>\n",
       "  <tbody>\n",
       "    <tr>\n",
       "      <th>car</th>\n",
       "      <th>Fully Paid</th>\n",
       "      <td>464</td>\n",
       "      <td>436</td>\n",
       "      <td>393</td>\n",
       "      <td>1293</td>\n",
       "    </tr>\n",
       "    <tr>\n",
       "      <th>credit_card</th>\n",
       "      <th>Fully Paid</th>\n",
       "      <td>1265</td>\n",
       "      <td>1488</td>\n",
       "      <td>1635</td>\n",
       "      <td>4388</td>\n",
       "    </tr>\n",
       "    <tr>\n",
       "      <th>debt_consolidation</th>\n",
       "      <th>Fully Paid</th>\n",
       "      <td>4874</td>\n",
       "      <td>5122</td>\n",
       "      <td>4992</td>\n",
       "      <td>14988</td>\n",
       "    </tr>\n",
       "    <tr>\n",
       "      <th>educational</th>\n",
       "      <th>Fully Paid</th>\n",
       "      <td>143</td>\n",
       "      <td>62</td>\n",
       "      <td>60</td>\n",
       "      <td>265</td>\n",
       "    </tr>\n",
       "    <tr>\n",
       "      <th>home_improvement</th>\n",
       "      <th>Fully Paid</th>\n",
       "      <td>505</td>\n",
       "      <td>693</td>\n",
       "      <td>1254</td>\n",
       "      <td>2452</td>\n",
       "    </tr>\n",
       "  </tbody>\n",
       "</table>\n",
       "</div>"
      ],
      "text/plain": [
       "incomeRange                        L     M     H    All\n",
       "purpose            loan_status                         \n",
       "car                Fully Paid    464   436   393   1293\n",
       "credit_card        Fully Paid   1265  1488  1635   4388\n",
       "debt_consolidation Fully Paid   4874  5122  4992  14988\n",
       "educational        Fully Paid    143    62    60    265\n",
       "home_improvement   Fully Paid    505   693  1254   2452"
      ]
     },
     "execution_count": 64,
     "metadata": {},
     "output_type": "execute_result"
    }
   ],
   "source": [
    "dfannualpaid=df1[['purpose','incomeRange','loan_status']]\n",
    "dfannualpaid=dfannualpaid[dfannualpaid['loan_status']=='Fully Paid']\n",
    "dfannualpaid.head()\n",
    "resannualpaid=pd.pivot_table(data=dfannualpaid,index=[\"purpose\",\"loan_status\"],columns =\"incomeRange\",margins=True,aggfunc=len,fill_value=0)\n",
    "resannualpaid.head()"
   ]
  },
  {
   "cell_type": "code",
   "execution_count": 65,
   "id": "83633de7",
   "metadata": {},
   "outputs": [
    {
     "data": {
      "text/html": [
       "<div>\n",
       "<style scoped>\n",
       "    .dataframe tbody tr th:only-of-type {\n",
       "        vertical-align: middle;\n",
       "    }\n",
       "\n",
       "    .dataframe tbody tr th {\n",
       "        vertical-align: top;\n",
       "    }\n",
       "\n",
       "    .dataframe thead th {\n",
       "        text-align: right;\n",
       "    }\n",
       "</style>\n",
       "<table border=\"1\" class=\"dataframe\">\n",
       "  <thead>\n",
       "    <tr style=\"text-align: right;\">\n",
       "      <th></th>\n",
       "      <th>incomeRange</th>\n",
       "      <th>L</th>\n",
       "      <th>M</th>\n",
       "      <th>H</th>\n",
       "      <th>All</th>\n",
       "    </tr>\n",
       "    <tr>\n",
       "      <th>purpose</th>\n",
       "      <th>loan_status</th>\n",
       "      <th></th>\n",
       "      <th></th>\n",
       "      <th></th>\n",
       "      <th></th>\n",
       "    </tr>\n",
       "  </thead>\n",
       "  <tbody>\n",
       "    <tr>\n",
       "      <th>car</th>\n",
       "      <th>Fully Paid</th>\n",
       "      <td>35.885538</td>\n",
       "      <td>33.720031</td>\n",
       "      <td>30.394432</td>\n",
       "      <td>100.0</td>\n",
       "    </tr>\n",
       "    <tr>\n",
       "      <th>credit_card</th>\n",
       "      <th>Fully Paid</th>\n",
       "      <td>28.828624</td>\n",
       "      <td>33.910665</td>\n",
       "      <td>37.260711</td>\n",
       "      <td>100.0</td>\n",
       "    </tr>\n",
       "    <tr>\n",
       "      <th>debt_consolidation</th>\n",
       "      <th>Fully Paid</th>\n",
       "      <td>32.519349</td>\n",
       "      <td>34.174006</td>\n",
       "      <td>33.306645</td>\n",
       "      <td>100.0</td>\n",
       "    </tr>\n",
       "    <tr>\n",
       "      <th>educational</th>\n",
       "      <th>Fully Paid</th>\n",
       "      <td>53.962264</td>\n",
       "      <td>23.396226</td>\n",
       "      <td>22.641509</td>\n",
       "      <td>100.0</td>\n",
       "    </tr>\n",
       "    <tr>\n",
       "      <th>home_improvement</th>\n",
       "      <th>Fully Paid</th>\n",
       "      <td>20.595432</td>\n",
       "      <td>28.262643</td>\n",
       "      <td>51.141925</td>\n",
       "      <td>100.0</td>\n",
       "    </tr>\n",
       "  </tbody>\n",
       "</table>\n",
       "</div>"
      ],
      "text/plain": [
       "incomeRange                             L          M          H    All\n",
       "purpose            loan_status                                        \n",
       "car                Fully Paid   35.885538  33.720031  30.394432  100.0\n",
       "credit_card        Fully Paid   28.828624  33.910665  37.260711  100.0\n",
       "debt_consolidation Fully Paid   32.519349  34.174006  33.306645  100.0\n",
       "educational        Fully Paid   53.962264  23.396226  22.641509  100.0\n",
       "home_improvement   Fully Paid   20.595432  28.262643  51.141925  100.0"
      ]
     },
     "execution_count": 65,
     "metadata": {},
     "output_type": "execute_result"
    }
   ],
   "source": [
    "resannualpaid = (resannualpaid.div(resannualpaid.iloc[:,-1],axis=0)*100)\n",
    "resannualpaid.head()"
   ]
  },
  {
   "cell_type": "code",
   "execution_count": 66,
   "id": "82aaea22",
   "metadata": {},
   "outputs": [],
   "source": [
    "resannualpaidPlt = resannualpaid.drop(index='All',axis=0)\n",
    "resannualpaiPlt1 = resannualpaidPlt.drop(resannualpaidPlt.columns[-1],axis=1)"
   ]
  },
  {
   "cell_type": "code",
   "execution_count": 67,
   "id": "f840b3ce",
   "metadata": {},
   "outputs": [
    {
     "data": {
      "text/plain": [
       "<AxesSubplot:ylabel='purpose,loan_status'>"
      ]
     },
     "execution_count": 67,
     "metadata": {},
     "output_type": "execute_result"
    },
    {
     "data": {
      "image/png": "[encoded data removed]",
      "text/plain": [
       "<Figure size 432x288 with 1 Axes>"
      ]
     },
     "metadata": {
      "needs_background": "light"
     },
     "output_type": "display_data"
    }
   ],
   "source": [
    "resannualpaiPlt1.plot(kind=\"barh\")"
   ]
  },
  {
   "cell_type": "markdown",
   "id": "99da4681",
   "metadata": {},
   "source": [
    "### Inference from the data above : On percentage analysis,Low income group is highest in paying off educational loans but they are also highest in charge off's in the same category."
   ]
  },
  {
   "cell_type": "markdown",
   "id": "8456055d",
   "metadata": {},
   "source": [
    "# Analysis Grade against Loan status"
   ]
  },
  {
   "cell_type": "code",
   "execution_count": 68,
   "id": "cf2c8c67",
   "metadata": {},
   "outputs": [
    {
     "data": {
      "text/html": [
       "<div>\n",
       "<style scoped>\n",
       "    .dataframe tbody tr th:only-of-type {\n",
       "        vertical-align: middle;\n",
       "    }\n",
       "\n",
       "    .dataframe tbody tr th {\n",
       "        vertical-align: top;\n",
       "    }\n",
       "\n",
       "    .dataframe thead th {\n",
       "        text-align: right;\n",
       "    }\n",
       "</style>\n",
       "<table border=\"1\" class=\"dataframe\">\n",
       "  <thead>\n",
       "    <tr style=\"text-align: right;\">\n",
       "      <th>loan_status</th>\n",
       "      <th>Charged Off</th>\n",
       "      <th>Fully Paid</th>\n",
       "      <th>All</th>\n",
       "    </tr>\n",
       "    <tr>\n",
       "      <th>grade</th>\n",
       "      <th></th>\n",
       "      <th></th>\n",
       "      <th></th>\n",
       "    </tr>\n",
       "  </thead>\n",
       "  <tbody>\n",
       "    <tr>\n",
       "      <th>A</th>\n",
       "      <td>5.781185</td>\n",
       "      <td>94.218815</td>\n",
       "      <td>100.0</td>\n",
       "    </tr>\n",
       "    <tr>\n",
       "      <th>B</th>\n",
       "      <td>11.933069</td>\n",
       "      <td>88.066931</td>\n",
       "      <td>100.0</td>\n",
       "    </tr>\n",
       "    <tr>\n",
       "      <th>C</th>\n",
       "      <td>16.797181</td>\n",
       "      <td>83.202819</td>\n",
       "      <td>100.0</td>\n",
       "    </tr>\n",
       "    <tr>\n",
       "      <th>D</th>\n",
       "      <td>21.795902</td>\n",
       "      <td>78.204098</td>\n",
       "      <td>100.0</td>\n",
       "    </tr>\n",
       "    <tr>\n",
       "      <th>E</th>\n",
       "      <td>26.717557</td>\n",
       "      <td>73.282443</td>\n",
       "      <td>100.0</td>\n",
       "    </tr>\n",
       "  </tbody>\n",
       "</table>\n",
       "</div>"
      ],
      "text/plain": [
       "loan_status  Charged Off  Fully Paid    All\n",
       "grade                                      \n",
       "A               5.781185   94.218815  100.0\n",
       "B              11.933069   88.066931  100.0\n",
       "C              16.797181   83.202819  100.0\n",
       "D              21.795902   78.204098  100.0\n",
       "E              26.717557   73.282443  100.0"
      ]
     },
     "execution_count": 68,
     "metadata": {},
     "output_type": "execute_result"
    }
   ],
   "source": [
    "dfrisk = df1[['grade','loan_status']]\n",
    "resrisk = pd.pivot_table(data=dfrisk,index=\"grade\",columns=\"loan_status\",aggfunc=len,margins=True,fill_value=0)\n",
    "resrisk = (resrisk.div(resrisk.iloc[:,-1],axis=0)*100)\n",
    "resrisk.head()\n",
    "\n"
   ]
  },
  {
   "cell_type": "code",
   "execution_count": 69,
   "id": "2620a458",
   "metadata": {},
   "outputs": [],
   "source": [
    "\n",
    "resriskPlt = resrisk.drop(index='All',axis=0)\n",
    "resriskPlt1 = resriskPlt.drop(resriskPlt.columns[-1],axis=1)"
   ]
  },
  {
   "cell_type": "code",
   "execution_count": 70,
   "id": "d19d5007",
   "metadata": {},
   "outputs": [
    {
     "data": {
      "image/png": "[encoded data removed]",
      "text/plain": [
       "<Figure size 432x288 with 1 Axes>"
      ]
     },
     "metadata": {
      "needs_background": "light"
     },
     "output_type": "display_data"
    }
   ],
   "source": [
    "resriskPlt1.plot(kind=\"bar\")\n",
    "plt.show()"
   ]
  },
  {
   "cell_type": "markdown",
   "id": "d23aab6f",
   "metadata": {},
   "source": [
    "### Inference from the analysis above : The percentage of chargeoff increases with risk represented by higher Grades"
   ]
  },
  {
   "cell_type": "code",
   "execution_count": 71,
   "id": "51664aba",
   "metadata": {},
   "outputs": [],
   "source": [
    "dfriskSub = df1[['sub_grade','loan_status']]\n",
    "resriskSub = pd.pivot_table(data=dfriskSub,index=\"sub_grade\",columns=\"loan_status\",margins=True,aggfunc=len,fill_value=0)\n",
    "resriskSub  = (resriskSub.div(resriskSub.iloc[:,-1],axis=0)*100)\n",
    "\n",
    "resriskSub.head()\n",
    "\n",
    "resriskSubPlt = resriskSub.drop(index='All',axis=0)\n",
    "resriskSubPlt1 = resriskSubPlt.drop(resriskSubPlt.columns[-1],axis=1)"
   ]
  },
  {
   "cell_type": "code",
   "execution_count": 72,
   "id": "aac1fb6e",
   "metadata": {},
   "outputs": [
    {
     "data": {
      "image/png": "[encoded data removed]",
      "text/plain": [
       "<Figure size 432x288 with 1 Axes>"
      ]
     },
     "metadata": {
      "needs_background": "light"
     },
     "output_type": "display_data"
    }
   ],
   "source": [
    "resriskSubPlt1.plot(kind=\"bar\")\n",
    "plt.show()"
   ]
  },
  {
   "cell_type": "markdown",
   "id": "47f746c3",
   "metadata": {},
   "source": [
    "### Inference from the analysis above : The percentage of chargeoff increases with risk represented by higher Sub Grades"
   ]
  },
  {
   "cell_type": "code",
   "execution_count": 73,
   "id": "f90da22a",
   "metadata": {},
   "outputs": [
    {
     "data": {
      "text/plain": [
       "<AxesSubplot:xlabel='grade', ylabel='purpose'>"
      ]
     },
     "execution_count": 73,
     "metadata": {},
     "output_type": "execute_result"
    },
    {
     "data": {
      "image/png": "[encoded data removed]",
      "text/plain": [
       "<Figure size 432x288 with 2 Axes>"
      ]
     },
     "metadata": {
      "needs_background": "light"
     },
     "output_type": "display_data"
    }
   ],
   "source": [
    "resg=pd.pivot_table(data=df1,index=\"purpose\",columns =\"grade\",values=\"loan_amnt\",aggfunc=lambda x: np.quantile(x,0.5))\n",
    "sns.heatmap(resg,cmap=\"Greens\",annot=True,fmt='g')"
   ]
  },
  {
   "cell_type": "markdown",
   "id": "f7e41a1f",
   "metadata": {},
   "source": [
    "### Inference from the analysis above : High risk group needs loan more for credit_Card,medical,home_improvement purposes"
   ]
  },
  {
   "cell_type": "markdown",
   "id": "221968b7",
   "metadata": {},
   "source": [
    "# Analysis of years in employment against term and loan status\n",
    "\n"
   ]
  },
  {
   "cell_type": "code",
   "execution_count": 74,
   "id": "dbc7380d",
   "metadata": {},
   "outputs": [
    {
     "data": {
      "text/plain": [
       " 36 months    28272\n",
       " 60 months     9252\n",
       "Name: term, dtype: int64"
      ]
     },
     "execution_count": 74,
     "metadata": {},
     "output_type": "execute_result"
    }
   ],
   "source": [
    "df1.term.value_counts()"
   ]
  },
  {
   "cell_type": "code",
   "execution_count": 75,
   "id": "fc7316ea",
   "metadata": {},
   "outputs": [
    {
     "data": {
      "text/plain": [
       "0"
      ]
     },
     "execution_count": 75,
     "metadata": {},
     "output_type": "execute_result"
    }
   ],
   "source": [
    "df1.term.isnull().sum()"
   ]
  },
  {
   "cell_type": "code",
   "execution_count": 76,
   "id": "67acbc98",
   "metadata": {},
   "outputs": [],
   "source": [
    "dfempl=df1[['emp_length','term','loan_status']]\n",
    "resempl=pd.pivot_table(data=dfempl,index=['emp_length','loan_status'],columns =['term'],aggfunc=len,fill_value=0)\n"
   ]
  },
  {
   "cell_type": "code",
   "execution_count": 77,
   "id": "3804b769",
   "metadata": {},
   "outputs": [
    {
     "data": {
      "text/html": [
       "<div>\n",
       "<style scoped>\n",
       "    .dataframe tbody tr th:only-of-type {\n",
       "        vertical-align: middle;\n",
       "    }\n",
       "\n",
       "    .dataframe tbody tr th {\n",
       "        vertical-align: top;\n",
       "    }\n",
       "\n",
       "    .dataframe thead th {\n",
       "        text-align: right;\n",
       "    }\n",
       "</style>\n",
       "<table border=\"1\" class=\"dataframe\">\n",
       "  <thead>\n",
       "    <tr style=\"text-align: right;\">\n",
       "      <th></th>\n",
       "      <th>term</th>\n",
       "      <th>36 months</th>\n",
       "      <th>60 months</th>\n",
       "    </tr>\n",
       "    <tr>\n",
       "      <th>emp_length</th>\n",
       "      <th>loan_status</th>\n",
       "      <th></th>\n",
       "      <th></th>\n",
       "    </tr>\n",
       "  </thead>\n",
       "  <tbody>\n",
       "    <tr>\n",
       "      <th rowspan=\"2\" valign=\"top\">1 year</th>\n",
       "      <th>Charged Off</th>\n",
       "      <td>302</td>\n",
       "      <td>154</td>\n",
       "    </tr>\n",
       "    <tr>\n",
       "      <th>Fully Paid</th>\n",
       "      <td>2280</td>\n",
       "      <td>431</td>\n",
       "    </tr>\n",
       "    <tr>\n",
       "      <th rowspan=\"2\" valign=\"top\">10+ years</th>\n",
       "      <th>Charged Off</th>\n",
       "      <td>630</td>\n",
       "      <td>701</td>\n",
       "    </tr>\n",
       "    <tr>\n",
       "      <th>Fully Paid</th>\n",
       "      <td>5202</td>\n",
       "      <td>1946</td>\n",
       "    </tr>\n",
       "    <tr>\n",
       "      <th>2 years</th>\n",
       "      <th>Charged Off</th>\n",
       "      <td>356</td>\n",
       "      <td>210</td>\n",
       "    </tr>\n",
       "  </tbody>\n",
       "</table>\n",
       "</div>"
      ],
      "text/plain": [
       "term                     36 months   60 months\n",
       "emp_length loan_status                        \n",
       "1 year     Charged Off         302         154\n",
       "           Fully Paid         2280         431\n",
       "10+ years  Charged Off         630         701\n",
       "           Fully Paid         5202        1946\n",
       "2 years    Charged Off         356         210"
      ]
     },
     "execution_count": 77,
     "metadata": {},
     "output_type": "execute_result"
    }
   ],
   "source": [
    "resempl.head()"
   ]
  },
  {
   "cell_type": "code",
   "execution_count": 78,
   "id": "3d47f487",
   "metadata": {},
   "outputs": [
    {
     "data": {
      "text/plain": [
       "<AxesSubplot:xlabel='emp_length,loan_status'>"
      ]
     },
     "execution_count": 78,
     "metadata": {},
     "output_type": "execute_result"
    },
    {
     "data": {
      "image/png": "[encoded data removed]",
      "text/plain": [
       "<Figure size 432x288 with 1 Axes>"
      ]
     },
     "metadata": {
      "needs_background": "light"
     },
     "output_type": "display_data"
    }
   ],
   "source": [
    "resempl.plot(kind=\"bar\")"
   ]
  },
  {
   "cell_type": "markdown",
   "id": "5f8c4b2a",
   "metadata": {},
   "source": [
    "# Inference from analysis above : short term loans are mostly requested among all employee groups - TBD"
   ]
  },
  {
   "cell_type": "code",
   "execution_count": 79,
   "id": "c9531330",
   "metadata": {},
   "outputs": [
    {
     "data": {
      "text/html": [
       "<div>\n",
       "<style scoped>\n",
       "    .dataframe tbody tr th:only-of-type {\n",
       "        vertical-align: middle;\n",
       "    }\n",
       "\n",
       "    .dataframe tbody tr th {\n",
       "        vertical-align: top;\n",
       "    }\n",
       "\n",
       "    .dataframe thead th {\n",
       "        text-align: right;\n",
       "    }\n",
       "</style>\n",
       "<table border=\"1\" class=\"dataframe\">\n",
       "  <thead>\n",
       "    <tr style=\"text-align: right;\">\n",
       "      <th>term</th>\n",
       "      <th>36 months</th>\n",
       "      <th>60 months</th>\n",
       "    </tr>\n",
       "    <tr>\n",
       "      <th>grade</th>\n",
       "      <th></th>\n",
       "      <th></th>\n",
       "    </tr>\n",
       "  </thead>\n",
       "  <tbody>\n",
       "    <tr>\n",
       "      <th>A</th>\n",
       "      <td>9273</td>\n",
       "      <td>379</td>\n",
       "    </tr>\n",
       "    <tr>\n",
       "      <th>B</th>\n",
       "      <td>9083</td>\n",
       "      <td>2272</td>\n",
       "    </tr>\n",
       "    <tr>\n",
       "      <th>C</th>\n",
       "      <td>5626</td>\n",
       "      <td>2036</td>\n",
       "    </tr>\n",
       "    <tr>\n",
       "      <th>D</th>\n",
       "      <td>3170</td>\n",
       "      <td>1808</td>\n",
       "    </tr>\n",
       "    <tr>\n",
       "      <th>E</th>\n",
       "      <td>857</td>\n",
       "      <td>1763</td>\n",
       "    </tr>\n",
       "  </tbody>\n",
       "</table>\n",
       "</div>"
      ],
      "text/plain": [
       "term    36 months   60 months\n",
       "grade                        \n",
       "A            9273         379\n",
       "B            9083        2272\n",
       "C            5626        2036\n",
       "D            3170        1808\n",
       "E             857        1763"
      ]
     },
     "execution_count": 79,
     "metadata": {},
     "output_type": "execute_result"
    }
   ],
   "source": [
    "dfemplgrade=df1[['grade','term']]\n",
    "resemplg=pd.pivot_table(data=dfemplgrade,index=['grade'],columns =['term'],aggfunc=len)\n",
    "resemplg.head()"
   ]
  },
  {
   "cell_type": "code",
   "execution_count": 80,
   "id": "49542164",
   "metadata": {},
   "outputs": [
    {
     "data": {
      "image/png": "[encoded data removed]",
      "text/plain": [
       "<Figure size 432x288 with 1 Axes>"
      ]
     },
     "metadata": {
      "needs_background": "light"
     },
     "output_type": "display_data"
    }
   ],
   "source": [
    "resemplg.plot(kind=\"bar\")\n",
    "plt.show()"
   ]
  },
  {
   "cell_type": "markdown",
   "id": "f9df3520",
   "metadata": {},
   "source": [
    "# Inference from analysis above : while the credit score deteriorates, people tend to go for long term loans."
   ]
  },
  {
   "cell_type": "code",
   "execution_count": 81,
   "id": "e7431722",
   "metadata": {},
   "outputs": [],
   "source": [
    "dfemplstat=df1[['emp_length','loan_status']]\n",
    "resemplstat=pd.pivot_table(data=dfemplstat,index=['emp_length'],columns =['loan_status'],margins =True,aggfunc=len,fill_value=0)\n"
   ]
  },
  {
   "cell_type": "code",
   "execution_count": 82,
   "id": "e32d48ea",
   "metadata": {},
   "outputs": [
    {
     "data": {
      "text/html": [
       "<div>\n",
       "<style scoped>\n",
       "    .dataframe tbody tr th:only-of-type {\n",
       "        vertical-align: middle;\n",
       "    }\n",
       "\n",
       "    .dataframe tbody tr th {\n",
       "        vertical-align: top;\n",
       "    }\n",
       "\n",
       "    .dataframe thead th {\n",
       "        text-align: right;\n",
       "    }\n",
       "</style>\n",
       "<table border=\"1\" class=\"dataframe\">\n",
       "  <thead>\n",
       "    <tr style=\"text-align: right;\">\n",
       "      <th>loan_status</th>\n",
       "      <th>Charged Off</th>\n",
       "      <th>Fully Paid</th>\n",
       "      <th>All</th>\n",
       "    </tr>\n",
       "    <tr>\n",
       "      <th>emp_length</th>\n",
       "      <th></th>\n",
       "      <th></th>\n",
       "      <th></th>\n",
       "    </tr>\n",
       "  </thead>\n",
       "  <tbody>\n",
       "    <tr>\n",
       "      <th>1 year</th>\n",
       "      <td>456</td>\n",
       "      <td>2711</td>\n",
       "      <td>3167</td>\n",
       "    </tr>\n",
       "    <tr>\n",
       "      <th>10+ years</th>\n",
       "      <td>1331</td>\n",
       "      <td>7148</td>\n",
       "      <td>8479</td>\n",
       "    </tr>\n",
       "    <tr>\n",
       "      <th>2 years</th>\n",
       "      <td>566</td>\n",
       "      <td>3724</td>\n",
       "      <td>4290</td>\n",
       "    </tr>\n",
       "    <tr>\n",
       "      <th>3 years</th>\n",
       "      <td>555</td>\n",
       "      <td>3456</td>\n",
       "      <td>4011</td>\n",
       "    </tr>\n",
       "    <tr>\n",
       "      <th>4 years</th>\n",
       "      <td>462</td>\n",
       "      <td>2880</td>\n",
       "      <td>3342</td>\n",
       "    </tr>\n",
       "  </tbody>\n",
       "</table>\n",
       "</div>"
      ],
      "text/plain": [
       "loan_status  Charged Off  Fully Paid   All\n",
       "emp_length                                \n",
       "1 year               456        2711  3167\n",
       "10+ years           1331        7148  8479\n",
       "2 years              566        3724  4290\n",
       "3 years              555        3456  4011\n",
       "4 years              462        2880  3342"
      ]
     },
     "execution_count": 82,
     "metadata": {},
     "output_type": "execute_result"
    }
   ],
   "source": [
    "resemplstat.head()"
   ]
  },
  {
   "cell_type": "markdown",
   "id": "dfac8c5e",
   "metadata": {},
   "source": [
    "##### From total number of charged off cases, it appears that 10+ years are among the most charged off cases.\n",
    "##### As they are top among the fully paid as well, It would be more meaningful if we analyze the Percentage. Please see the analysis continued below."
   ]
  },
  {
   "cell_type": "code",
   "execution_count": 83,
   "id": "6e8fbdd3",
   "metadata": {},
   "outputs": [
    {
     "data": {
      "text/html": [
       "<div>\n",
       "<style scoped>\n",
       "    .dataframe tbody tr th:only-of-type {\n",
       "        vertical-align: middle;\n",
       "    }\n",
       "\n",
       "    .dataframe tbody tr th {\n",
       "        vertical-align: top;\n",
       "    }\n",
       "\n",
       "    .dataframe thead th {\n",
       "        text-align: right;\n",
       "    }\n",
       "</style>\n",
       "<table border=\"1\" class=\"dataframe\">\n",
       "  <thead>\n",
       "    <tr style=\"text-align: right;\">\n",
       "      <th>loan_status</th>\n",
       "      <th>Charged Off</th>\n",
       "      <th>Fully Paid</th>\n",
       "      <th>All</th>\n",
       "    </tr>\n",
       "    <tr>\n",
       "      <th>emp_length</th>\n",
       "      <th></th>\n",
       "      <th></th>\n",
       "      <th></th>\n",
       "    </tr>\n",
       "  </thead>\n",
       "  <tbody>\n",
       "    <tr>\n",
       "      <th>1 year</th>\n",
       "      <td>14.398484</td>\n",
       "      <td>85.601516</td>\n",
       "      <td>100.0</td>\n",
       "    </tr>\n",
       "    <tr>\n",
       "      <th>10+ years</th>\n",
       "      <td>15.697606</td>\n",
       "      <td>84.302394</td>\n",
       "      <td>100.0</td>\n",
       "    </tr>\n",
       "    <tr>\n",
       "      <th>2 years</th>\n",
       "      <td>13.193473</td>\n",
       "      <td>86.806527</td>\n",
       "      <td>100.0</td>\n",
       "    </tr>\n",
       "    <tr>\n",
       "      <th>3 years</th>\n",
       "      <td>13.836948</td>\n",
       "      <td>86.163052</td>\n",
       "      <td>100.0</td>\n",
       "    </tr>\n",
       "    <tr>\n",
       "      <th>4 years</th>\n",
       "      <td>13.824057</td>\n",
       "      <td>86.175943</td>\n",
       "      <td>100.0</td>\n",
       "    </tr>\n",
       "  </tbody>\n",
       "</table>\n",
       "</div>"
      ],
      "text/plain": [
       "loan_status  Charged Off  Fully Paid    All\n",
       "emp_length                                 \n",
       "1 year         14.398484   85.601516  100.0\n",
       "10+ years      15.697606   84.302394  100.0\n",
       "2 years        13.193473   86.806527  100.0\n",
       "3 years        13.836948   86.163052  100.0\n",
       "4 years        13.824057   86.175943  100.0"
      ]
     },
     "execution_count": 83,
     "metadata": {},
     "output_type": "execute_result"
    }
   ],
   "source": [
    "resemplstat = (resemplstat.div(resemplstat.iloc[:,-1],axis=0)*100)\n",
    "resemplstat.head()"
   ]
  },
  {
   "cell_type": "code",
   "execution_count": 84,
   "id": "ebe900cb",
   "metadata": {},
   "outputs": [],
   "source": [
    "resemplstatPlt = resemplstat.drop(index='All',axis=0)\n",
    "resemplstatPlt1 = resemplstatPlt.drop(resemplstatPlt.columns[-1],axis=1)"
   ]
  },
  {
   "cell_type": "code",
   "execution_count": 85,
   "id": "efb046d8",
   "metadata": {},
   "outputs": [
    {
     "data": {
      "image/png": "[encoded data removed]",
      "text/plain": [
       "<Figure size 432x288 with 1 Axes>"
      ]
     },
     "metadata": {
      "needs_background": "light"
     },
     "output_type": "display_data"
    }
   ],
   "source": [
    "resemplstatPlt1.plot(kind=\"barh\")\n",
    "plt.show()"
   ]
  },
  {
   "cell_type": "markdown",
   "id": "7967071b",
   "metadata": {},
   "source": [
    "### The percentage of charged off cases are within +/-2% among all employement years."
   ]
  },
  {
   "cell_type": "markdown",
   "id": "01153bdc",
   "metadata": {},
   "source": [
    "# Analysis dti against loan status"
   ]
  },
  {
   "cell_type": "code",
   "execution_count": 86,
   "id": "03980392",
   "metadata": {},
   "outputs": [
    {
     "data": {
      "text/plain": [
       "0.00     167\n",
       "18.00     44\n",
       "12.00     44\n",
       "19.20     39\n",
       "13.20     38\n",
       "        ... \n",
       "29.78      1\n",
       "25.73      1\n",
       "29.48      1\n",
       "25.60      1\n",
       "25.43      1\n",
       "Name: dti, Length: 2848, dtype: int64"
      ]
     },
     "execution_count": 86,
     "metadata": {},
     "output_type": "execute_result"
    }
   ],
   "source": [
    "df1.dti.value_counts()"
   ]
  },
  {
   "cell_type": "code",
   "execution_count": 87,
   "id": "88c409f7",
   "metadata": {},
   "outputs": [
    {
     "data": {
      "text/plain": [
       "0"
      ]
     },
     "execution_count": 87,
     "metadata": {},
     "output_type": "execute_result"
    }
   ],
   "source": [
    "df1.dti.isnull().sum()"
   ]
  },
  {
   "cell_type": "code",
   "execution_count": 88,
   "id": "40aebf9e",
   "metadata": {},
   "outputs": [
    {
     "data": {
      "text/html": [
       "<div>\n",
       "<style scoped>\n",
       "    .dataframe tbody tr th:only-of-type {\n",
       "        vertical-align: middle;\n",
       "    }\n",
       "\n",
       "    .dataframe tbody tr th {\n",
       "        vertical-align: top;\n",
       "    }\n",
       "\n",
       "    .dataframe thead th {\n",
       "        text-align: right;\n",
       "    }\n",
       "</style>\n",
       "<table border=\"1\" class=\"dataframe\">\n",
       "  <thead>\n",
       "    <tr style=\"text-align: right;\">\n",
       "      <th></th>\n",
       "      <th>dti</th>\n",
       "      <th>dtiRange</th>\n",
       "    </tr>\n",
       "  </thead>\n",
       "  <tbody>\n",
       "    <tr>\n",
       "      <th>0</th>\n",
       "      <td>27.65</td>\n",
       "      <td>H</td>\n",
       "    </tr>\n",
       "    <tr>\n",
       "      <th>1</th>\n",
       "      <td>1.00</td>\n",
       "      <td>L</td>\n",
       "    </tr>\n",
       "    <tr>\n",
       "      <th>2</th>\n",
       "      <td>8.72</td>\n",
       "      <td>L</td>\n",
       "    </tr>\n",
       "    <tr>\n",
       "      <th>3</th>\n",
       "      <td>20.00</td>\n",
       "      <td>H</td>\n",
       "    </tr>\n",
       "    <tr>\n",
       "      <th>5</th>\n",
       "      <td>11.20</td>\n",
       "      <td>M</td>\n",
       "    </tr>\n",
       "    <tr>\n",
       "      <th>...</th>\n",
       "      <td>...</td>\n",
       "      <td>...</td>\n",
       "    </tr>\n",
       "    <tr>\n",
       "      <th>39712</th>\n",
       "      <td>11.33</td>\n",
       "      <td>M</td>\n",
       "    </tr>\n",
       "    <tr>\n",
       "      <th>39713</th>\n",
       "      <td>6.40</td>\n",
       "      <td>L</td>\n",
       "    </tr>\n",
       "    <tr>\n",
       "      <th>39714</th>\n",
       "      <td>2.30</td>\n",
       "      <td>L</td>\n",
       "    </tr>\n",
       "    <tr>\n",
       "      <th>39715</th>\n",
       "      <td>3.72</td>\n",
       "      <td>L</td>\n",
       "    </tr>\n",
       "    <tr>\n",
       "      <th>39716</th>\n",
       "      <td>14.29</td>\n",
       "      <td>M</td>\n",
       "    </tr>\n",
       "  </tbody>\n",
       "</table>\n",
       "<p>37524 rows × 2 columns</p>\n",
       "</div>"
      ],
      "text/plain": [
       "         dti dtiRange\n",
       "0      27.65        H\n",
       "1       1.00        L\n",
       "2       8.72        L\n",
       "3      20.00        H\n",
       "5      11.20        M\n",
       "...      ...      ...\n",
       "39712  11.33        M\n",
       "39713   6.40        L\n",
       "39714   2.30        L\n",
       "39715   3.72        L\n",
       "39716  14.29        M\n",
       "\n",
       "[37524 rows x 2 columns]"
      ]
     },
     "execution_count": 88,
     "metadata": {},
     "output_type": "execute_result"
    }
   ],
   "source": [
    "df1['dtiRange']=pd.qcut(df1.dti,[0,0.33,0.66,1],[\"L\",\"M\",\"H\"])\n",
    "df1[['dti','dtiRange']]"
   ]
  },
  {
   "cell_type": "code",
   "execution_count": 89,
   "id": "5664f66c",
   "metadata": {},
   "outputs": [
    {
     "data": {
      "text/html": [
       "<div>\n",
       "<style scoped>\n",
       "    .dataframe tbody tr th:only-of-type {\n",
       "        vertical-align: middle;\n",
       "    }\n",
       "\n",
       "    .dataframe tbody tr th {\n",
       "        vertical-align: top;\n",
       "    }\n",
       "\n",
       "    .dataframe thead th {\n",
       "        text-align: right;\n",
       "    }\n",
       "</style>\n",
       "<table border=\"1\" class=\"dataframe\">\n",
       "  <thead>\n",
       "    <tr style=\"text-align: right;\">\n",
       "      <th></th>\n",
       "      <th>loan_status</th>\n",
       "      <th>dtiRange</th>\n",
       "    </tr>\n",
       "  </thead>\n",
       "  <tbody>\n",
       "    <tr>\n",
       "      <th>0</th>\n",
       "      <td>Fully Paid</td>\n",
       "      <td>H</td>\n",
       "    </tr>\n",
       "    <tr>\n",
       "      <th>1</th>\n",
       "      <td>Charged Off</td>\n",
       "      <td>L</td>\n",
       "    </tr>\n",
       "    <tr>\n",
       "      <th>2</th>\n",
       "      <td>Fully Paid</td>\n",
       "      <td>L</td>\n",
       "    </tr>\n",
       "    <tr>\n",
       "      <th>3</th>\n",
       "      <td>Fully Paid</td>\n",
       "      <td>H</td>\n",
       "    </tr>\n",
       "    <tr>\n",
       "      <th>5</th>\n",
       "      <td>Fully Paid</td>\n",
       "      <td>M</td>\n",
       "    </tr>\n",
       "  </tbody>\n",
       "</table>\n",
       "</div>"
      ],
      "text/plain": [
       "   loan_status dtiRange\n",
       "0   Fully Paid        H\n",
       "1  Charged Off        L\n",
       "2   Fully Paid        L\n",
       "3   Fully Paid        H\n",
       "5   Fully Paid        M"
      ]
     },
     "execution_count": 89,
     "metadata": {},
     "output_type": "execute_result"
    }
   ],
   "source": [
    "dfdtRange=df1[['loan_status','dtiRange']]\n",
    "dfdtRange.head()"
   ]
  },
  {
   "cell_type": "code",
   "execution_count": 90,
   "id": "b086707e",
   "metadata": {},
   "outputs": [
    {
     "data": {
      "text/html": [
       "<div>\n",
       "<style scoped>\n",
       "    .dataframe tbody tr th:only-of-type {\n",
       "        vertical-align: middle;\n",
       "    }\n",
       "\n",
       "    .dataframe tbody tr th {\n",
       "        vertical-align: top;\n",
       "    }\n",
       "\n",
       "    .dataframe thead th {\n",
       "        text-align: right;\n",
       "    }\n",
       "</style>\n",
       "<table border=\"1\" class=\"dataframe\">\n",
       "  <thead>\n",
       "    <tr style=\"text-align: right;\">\n",
       "      <th>loan_status</th>\n",
       "      <th>Charged Off</th>\n",
       "      <th>Fully Paid</th>\n",
       "    </tr>\n",
       "    <tr>\n",
       "      <th>dtiRange</th>\n",
       "      <th></th>\n",
       "      <th></th>\n",
       "    </tr>\n",
       "  </thead>\n",
       "  <tbody>\n",
       "    <tr>\n",
       "      <th>L</th>\n",
       "      <td>1553</td>\n",
       "      <td>10833</td>\n",
       "    </tr>\n",
       "    <tr>\n",
       "      <th>M</th>\n",
       "      <td>1779</td>\n",
       "      <td>10607</td>\n",
       "    </tr>\n",
       "    <tr>\n",
       "      <th>H</th>\n",
       "      <td>2066</td>\n",
       "      <td>10686</td>\n",
       "    </tr>\n",
       "  </tbody>\n",
       "</table>\n",
       "</div>"
      ],
      "text/plain": [
       "loan_status  Charged Off  Fully Paid\n",
       "dtiRange                            \n",
       "L                   1553       10833\n",
       "M                   1779       10607\n",
       "H                   2066       10686"
      ]
     },
     "execution_count": 90,
     "metadata": {},
     "output_type": "execute_result"
    }
   ],
   "source": [
    "resdti=pd.pivot_table(data=dfdtRange,index=['dtiRange'],columns =['loan_status'],aggfunc=len)\n",
    "resdti.head()"
   ]
  },
  {
   "cell_type": "code",
   "execution_count": 91,
   "id": "3e2b2ddf",
   "metadata": {},
   "outputs": [
    {
     "data": {
      "text/plain": [
       "<AxesSubplot:xlabel='dtiRange'>"
      ]
     },
     "execution_count": 91,
     "metadata": {},
     "output_type": "execute_result"
    },
    {
     "data": {
      "image/png": "[encoded data removed]",
      "text/plain": [
       "<Figure size 432x288 with 1 Axes>"
      ]
     },
     "metadata": {
      "needs_background": "light"
     },
     "output_type": "display_data"
    }
   ],
   "source": [
    "resdti.plot(kind=\"bar\")"
   ]
  },
  {
   "cell_type": "code",
   "execution_count": 92,
   "id": "2fe9e87f",
   "metadata": {},
   "outputs": [
    {
     "data": {
      "text/plain": [
       "<AxesSubplot:xlabel='dtiRange'>"
      ]
     },
     "execution_count": 92,
     "metadata": {},
     "output_type": "execute_result"
    },
    {
     "data": {
      "image/png": "[encoded data removed]",
      "text/plain": [
       "<Figure size 432x288 with 1 Axes>"
      ]
     },
     "metadata": {
      "needs_background": "light"
     },
     "output_type": "display_data"
    }
   ],
   "source": [
    "resdtplt = resdti[['Charged Off']]\n",
    "resdtplt.plot(kind='bar')"
   ]
  },
  {
   "cell_type": "markdown",
   "id": "0fdbd9d1",
   "metadata": {},
   "source": [
    "# Inference from the analysis above : higher the Dti then higher the charged Off"
   ]
  },
  {
   "cell_type": "markdown",
   "id": "3a5d8ac9",
   "metadata": {},
   "source": [
    "# Analysis of Interest rate against Loan status"
   ]
  },
  {
   "cell_type": "code",
   "execution_count": 93,
   "id": "dd581d9a",
   "metadata": {},
   "outputs": [
    {
     "data": {
      "text/plain": [
       "10.99    891\n",
       "11.49    766\n",
       "7.51     755\n",
       "13.49    736\n",
       "7.88     699\n",
       "        ... \n",
       "16.96      1\n",
       "18.36      1\n",
       "16.15      1\n",
       "16.01      1\n",
       "16.20      1\n",
       "Name: int_rate, Length: 370, dtype: int64"
      ]
     },
     "execution_count": 93,
     "metadata": {},
     "output_type": "execute_result"
    }
   ],
   "source": [
    "df1.int_rate.value_counts()"
   ]
  },
  {
   "cell_type": "code",
   "execution_count": 94,
   "id": "13005fc1",
   "metadata": {},
   "outputs": [],
   "source": [
    "df1['intRange']=pd.qcut(df1.int_rate,[0,0.33,0.66,1],[\"L\",\"M\",\"H\"])"
   ]
  },
  {
   "cell_type": "code",
   "execution_count": 95,
   "id": "12af486b",
   "metadata": {},
   "outputs": [],
   "source": [
    "dfint = df1[['loan_status','intRange']]"
   ]
  },
  {
   "cell_type": "code",
   "execution_count": 96,
   "id": "093a67f2",
   "metadata": {},
   "outputs": [
    {
     "data": {
      "image/png": "[encoded data removed]",
      "text/plain": [
       "<Figure size 432x288 with 1 Axes>"
      ]
     },
     "metadata": {
      "needs_background": "light"
     },
     "output_type": "display_data"
    }
   ],
   "source": [
    "dfint.groupby('loan_status')['intRange'].value_counts().unstack().plot(kind='bar')\n",
    "plt.show()"
   ]
  },
  {
   "cell_type": "markdown",
   "id": "3fa387e0",
   "metadata": {},
   "source": [
    "# Inference from the analysis above : High interest rates get more charged Off while Low interest rates gets fully Paid"
   ]
  },
  {
   "cell_type": "markdown",
   "id": "4835bcbb",
   "metadata": {},
   "source": [
    "# Analysis of why Low income group tops in Charge Off and Fully paid category of Educational Loans"
   ]
  },
  {
   "cell_type": "code",
   "execution_count": 97,
   "id": "81d5bc5e",
   "metadata": {},
   "outputs": [
    {
     "data": {
      "text/html": [
       "<div>\n",
       "<style scoped>\n",
       "    .dataframe tbody tr th:only-of-type {\n",
       "        vertical-align: middle;\n",
       "    }\n",
       "\n",
       "    .dataframe tbody tr th {\n",
       "        vertical-align: top;\n",
       "    }\n",
       "\n",
       "    .dataframe thead th {\n",
       "        text-align: right;\n",
       "    }\n",
       "</style>\n",
       "<table border=\"1\" class=\"dataframe\">\n",
       "  <thead>\n",
       "    <tr style=\"text-align: right;\">\n",
       "      <th></th>\n",
       "      <th>incomeRange</th>\n",
       "      <th>loan_status</th>\n",
       "      <th>term</th>\n",
       "      <th>int_rate</th>\n",
       "      <th>grade</th>\n",
       "      <th>purpose</th>\n",
       "    </tr>\n",
       "  </thead>\n",
       "  <tbody>\n",
       "    <tr>\n",
       "      <th>0</th>\n",
       "      <td>L</td>\n",
       "      <td>Fully Paid</td>\n",
       "      <td>36 months</td>\n",
       "      <td>10.65</td>\n",
       "      <td>B</td>\n",
       "      <td>credit_card</td>\n",
       "    </tr>\n",
       "    <tr>\n",
       "      <th>1</th>\n",
       "      <td>L</td>\n",
       "      <td>Charged Off</td>\n",
       "      <td>60 months</td>\n",
       "      <td>15.27</td>\n",
       "      <td>C</td>\n",
       "      <td>car</td>\n",
       "    </tr>\n",
       "    <tr>\n",
       "      <th>2</th>\n",
       "      <td>L</td>\n",
       "      <td>Fully Paid</td>\n",
       "      <td>36 months</td>\n",
       "      <td>15.96</td>\n",
       "      <td>C</td>\n",
       "      <td>small_business</td>\n",
       "    </tr>\n",
       "    <tr>\n",
       "      <th>3</th>\n",
       "      <td>M</td>\n",
       "      <td>Fully Paid</td>\n",
       "      <td>36 months</td>\n",
       "      <td>13.49</td>\n",
       "      <td>C</td>\n",
       "      <td>other</td>\n",
       "    </tr>\n",
       "    <tr>\n",
       "      <th>5</th>\n",
       "      <td>L</td>\n",
       "      <td>Fully Paid</td>\n",
       "      <td>36 months</td>\n",
       "      <td>7.90</td>\n",
       "      <td>A</td>\n",
       "      <td>wedding</td>\n",
       "    </tr>\n",
       "  </tbody>\n",
       "</table>\n",
       "</div>"
      ],
      "text/plain": [
       "  incomeRange  loan_status        term  int_rate grade         purpose\n",
       "0           L   Fully Paid   36 months     10.65     B     credit_card\n",
       "1           L  Charged Off   60 months     15.27     C             car\n",
       "2           L   Fully Paid   36 months     15.96     C  small_business\n",
       "3           M   Fully Paid   36 months     13.49     C           other\n",
       "5           L   Fully Paid   36 months      7.90     A         wedding"
      ]
     },
     "execution_count": 97,
     "metadata": {},
     "output_type": "execute_result"
    }
   ],
   "source": [
    "dfLowIncome=df1[['incomeRange','loan_status','term','int_rate','grade','purpose']]\n",
    "dfLowIncome.head()"
   ]
  },
  {
   "cell_type": "code",
   "execution_count": 98,
   "id": "a5ecccdf",
   "metadata": {},
   "outputs": [],
   "source": [
    "dfLowIncome=dfLowIncome[dfLowIncome.incomeRange =='L']\n",
    "dfLowIncome=dfLowIncome[dfLowIncome.purpose =='educational']\n"
   ]
  },
  {
   "cell_type": "code",
   "execution_count": 99,
   "id": "c81b4a6d",
   "metadata": {},
   "outputs": [],
   "source": [
    "dfLowIncome['intRange']=pd.qcut(dfLowIncome.int_rate,[0,0.33,0.66,1],[\"L\",\"M\",\"H\"])"
   ]
  },
  {
   "cell_type": "code",
   "execution_count": 100,
   "id": "468b5957",
   "metadata": {},
   "outputs": [
    {
     "data": {
      "text/html": [
       "<div>\n",
       "<style scoped>\n",
       "    .dataframe tbody tr th:only-of-type {\n",
       "        vertical-align: middle;\n",
       "    }\n",
       "\n",
       "    .dataframe tbody tr th {\n",
       "        vertical-align: top;\n",
       "    }\n",
       "\n",
       "    .dataframe thead th {\n",
       "        text-align: right;\n",
       "    }\n",
       "</style>\n",
       "<table border=\"1\" class=\"dataframe\">\n",
       "  <thead>\n",
       "    <tr style=\"text-align: right;\">\n",
       "      <th></th>\n",
       "      <th>incomeRange</th>\n",
       "      <th>loan_status</th>\n",
       "      <th>term</th>\n",
       "      <th>int_rate</th>\n",
       "      <th>grade</th>\n",
       "      <th>purpose</th>\n",
       "      <th>intRange</th>\n",
       "    </tr>\n",
       "  </thead>\n",
       "  <tbody>\n",
       "    <tr>\n",
       "      <th>25162</th>\n",
       "      <td>L</td>\n",
       "      <td>Fully Paid</td>\n",
       "      <td>60 months</td>\n",
       "      <td>18.67</td>\n",
       "      <td>F</td>\n",
       "      <td>educational</td>\n",
       "      <td>H</td>\n",
       "    </tr>\n",
       "    <tr>\n",
       "      <th>25328</th>\n",
       "      <td>L</td>\n",
       "      <td>Charged Off</td>\n",
       "      <td>36 months</td>\n",
       "      <td>13.23</td>\n",
       "      <td>C</td>\n",
       "      <td>educational</td>\n",
       "      <td>H</td>\n",
       "    </tr>\n",
       "    <tr>\n",
       "      <th>25415</th>\n",
       "      <td>L</td>\n",
       "      <td>Charged Off</td>\n",
       "      <td>36 months</td>\n",
       "      <td>13.23</td>\n",
       "      <td>C</td>\n",
       "      <td>educational</td>\n",
       "      <td>H</td>\n",
       "    </tr>\n",
       "    <tr>\n",
       "      <th>25591</th>\n",
       "      <td>L</td>\n",
       "      <td>Fully Paid</td>\n",
       "      <td>36 months</td>\n",
       "      <td>10.75</td>\n",
       "      <td>B</td>\n",
       "      <td>educational</td>\n",
       "      <td>M</td>\n",
       "    </tr>\n",
       "    <tr>\n",
       "      <th>26251</th>\n",
       "      <td>L</td>\n",
       "      <td>Fully Paid</td>\n",
       "      <td>36 months</td>\n",
       "      <td>7.51</td>\n",
       "      <td>A</td>\n",
       "      <td>educational</td>\n",
       "      <td>L</td>\n",
       "    </tr>\n",
       "  </tbody>\n",
       "</table>\n",
       "</div>"
      ],
      "text/plain": [
       "      incomeRange  loan_status        term  int_rate grade      purpose  \\\n",
       "25162           L   Fully Paid   60 months     18.67     F  educational   \n",
       "25328           L  Charged Off   36 months     13.23     C  educational   \n",
       "25415           L  Charged Off   36 months     13.23     C  educational   \n",
       "25591           L   Fully Paid   36 months     10.75     B  educational   \n",
       "26251           L   Fully Paid   36 months      7.51     A  educational   \n",
       "\n",
       "      intRange  \n",
       "25162        H  \n",
       "25328        H  \n",
       "25415        H  \n",
       "25591        M  \n",
       "26251        L  "
      ]
     },
     "execution_count": 100,
     "metadata": {},
     "output_type": "execute_result"
    }
   ],
   "source": [
    "dfLowIncome.head()"
   ]
  },
  {
   "cell_type": "code",
   "execution_count": 101,
   "id": "498a301c",
   "metadata": {},
   "outputs": [],
   "source": [
    "dfLowIncome=dfLowIncome[['loan_status','term','intRange']]"
   ]
  },
  {
   "cell_type": "code",
   "execution_count": 102,
   "id": "0a095421",
   "metadata": {},
   "outputs": [
    {
     "data": {
      "text/html": [
       "<div>\n",
       "<style scoped>\n",
       "    .dataframe tbody tr th:only-of-type {\n",
       "        vertical-align: middle;\n",
       "    }\n",
       "\n",
       "    .dataframe tbody tr th {\n",
       "        vertical-align: top;\n",
       "    }\n",
       "\n",
       "    .dataframe thead th {\n",
       "        text-align: right;\n",
       "    }\n",
       "</style>\n",
       "<table border=\"1\" class=\"dataframe\">\n",
       "  <thead>\n",
       "    <tr style=\"text-align: right;\">\n",
       "      <th></th>\n",
       "      <th>intRange</th>\n",
       "      <th>L</th>\n",
       "      <th>M</th>\n",
       "      <th>H</th>\n",
       "      <th>All</th>\n",
       "    </tr>\n",
       "    <tr>\n",
       "      <th>loan_status</th>\n",
       "      <th>term</th>\n",
       "      <th></th>\n",
       "      <th></th>\n",
       "      <th></th>\n",
       "      <th></th>\n",
       "    </tr>\n",
       "  </thead>\n",
       "  <tbody>\n",
       "    <tr>\n",
       "      <th rowspan=\"2\" valign=\"top\">Charged Off</th>\n",
       "      <th>36 months</th>\n",
       "      <td>6</td>\n",
       "      <td>11</td>\n",
       "      <td>11</td>\n",
       "      <td>28</td>\n",
       "    </tr>\n",
       "    <tr>\n",
       "      <th>60 months</th>\n",
       "      <td>0</td>\n",
       "      <td>0</td>\n",
       "      <td>4</td>\n",
       "      <td>4</td>\n",
       "    </tr>\n",
       "    <tr>\n",
       "      <th rowspan=\"2\" valign=\"top\">Fully Paid</th>\n",
       "      <th>36 months</th>\n",
       "      <td>53</td>\n",
       "      <td>44</td>\n",
       "      <td>41</td>\n",
       "      <td>138</td>\n",
       "    </tr>\n",
       "    <tr>\n",
       "      <th>60 months</th>\n",
       "      <td>0</td>\n",
       "      <td>1</td>\n",
       "      <td>4</td>\n",
       "      <td>5</td>\n",
       "    </tr>\n",
       "    <tr>\n",
       "      <th>All</th>\n",
       "      <th></th>\n",
       "      <td>59</td>\n",
       "      <td>56</td>\n",
       "      <td>60</td>\n",
       "      <td>175</td>\n",
       "    </tr>\n",
       "  </tbody>\n",
       "</table>\n",
       "</div>"
      ],
      "text/plain": [
       "intRange                 L   M   H  All\n",
       "loan_status term                       \n",
       "Charged Off  36 months   6  11  11   28\n",
       "             60 months   0   0   4    4\n",
       "Fully Paid   36 months  53  44  41  138\n",
       "             60 months   0   1   4    5\n",
       "All                     59  56  60  175"
      ]
     },
     "execution_count": 102,
     "metadata": {},
     "output_type": "execute_result"
    }
   ],
   "source": [
    "resLincome=pd.pivot_table(data=dfLowIncome,index=[\"loan_status\",\"term\"],columns =[\"intRange\"],margins=True,aggfunc=len,fill_value=0)\n",
    "resLincome.head()"
   ]
  },
  {
   "cell_type": "code",
   "execution_count": 103,
   "id": "a48c8341",
   "metadata": {},
   "outputs": [],
   "source": [
    "resLincome = (resLincome.div(resLincome.iloc[:,-1],axis=0)*100)\n",
    "resLincome.head()\n",
    "resLincomePlt = resLincome.drop(index='All',axis=0)\n",
    "resemplstatPlt1 = resLincomePlt.drop(resLincomePlt.columns[-1],axis=1)"
   ]
  },
  {
   "cell_type": "code",
   "execution_count": 104,
   "id": "e8c5dac4",
   "metadata": {},
   "outputs": [
    {
     "data": {
      "image/png": "[encoded data removed]",
      "text/plain": [
       "<Figure size 432x288 with 1 Axes>"
      ]
     },
     "metadata": {
      "needs_background": "light"
     },
     "output_type": "display_data"
    }
   ],
   "source": [
    "resemplstatPlt1.plot(kind=\"barh\")\n",
    "plt.show()\n"
   ]
  },
  {
   "cell_type": "markdown",
   "id": "b1a32c05",
   "metadata": {},
   "source": []
  },
  {
   "cell_type": "markdown",
   "id": "c168aa6a",
   "metadata": {},
   "source": [
    "# Inference from the analysis above : For educational loans, when the interest rate is high, Low income group will get more charged Off for short term and long term loans. "
   ]
  },
  {
   "cell_type": "markdown",
   "id": "7760ce85",
   "metadata": {},
   "source": [
    "# Analysis of Home ownership against Loan status"
   ]
  },
  {
   "cell_type": "code",
   "execution_count": 105,
   "id": "58207b0f",
   "metadata": {},
   "outputs": [
    {
     "data": {
      "text/plain": [
       "RENT        18073\n",
       "MORTGAGE    16581\n",
       "OWN          2769\n",
       "OTHER          98\n",
       "NONE            3\n",
       "Name: home_ownership, dtype: int64"
      ]
     },
     "execution_count": 105,
     "metadata": {},
     "output_type": "execute_result"
    }
   ],
   "source": [
    "df1.home_ownership.value_counts()\n"
   ]
  },
  {
   "cell_type": "code",
   "execution_count": 106,
   "id": "675ce299",
   "metadata": {},
   "outputs": [],
   "source": [
    "df1 = df1[df1.home_ownership != 'NONE']"
   ]
  },
  {
   "cell_type": "code",
   "execution_count": 107,
   "id": "bcc24388",
   "metadata": {},
   "outputs": [
    {
     "data": {
      "text/plain": [
       "0"
      ]
     },
     "execution_count": 107,
     "metadata": {},
     "output_type": "execute_result"
    }
   ],
   "source": [
    "df1.home_ownership.isnull().sum()"
   ]
  },
  {
   "cell_type": "code",
   "execution_count": 108,
   "id": "337d6a57",
   "metadata": {},
   "outputs": [],
   "source": [
    "dfHmeOwn = df1[['home_ownership','loan_status']]"
   ]
  },
  {
   "cell_type": "code",
   "execution_count": 109,
   "id": "35b30550",
   "metadata": {},
   "outputs": [
    {
     "data": {
      "image/png": "[encoded data removed]",
      "text/plain": [
       "<Figure size 432x288 with 1 Axes>"
      ]
     },
     "metadata": {
      "needs_background": "light"
     },
     "output_type": "display_data"
    }
   ],
   "source": [
    "dfHmeOwn.groupby('home_ownership')['loan_status'].value_counts().unstack().plot(kind='bar')\n",
    "plt.show()"
   ]
  },
  {
   "cell_type": "markdown",
   "id": "78ac3e8f",
   "metadata": {},
   "source": [
    "# Inference from the analysis above : People who lives in Rented accomodation and those who has mortgage has more charged off than people who has Home ownership. "
   ]
  },
  {
   "cell_type": "markdown",
   "id": "1a9ce8ef",
   "metadata": {},
   "source": [
    "# Analysis of Verification status against Loan status"
   ]
  },
  {
   "cell_type": "code",
   "execution_count": 110,
   "id": "d6109430",
   "metadata": {},
   "outputs": [
    {
     "data": {
      "text/plain": [
       "Not Verified       16266\n",
       "Verified           11768\n",
       "Source Verified     9487\n",
       "Name: verification_status, dtype: int64"
      ]
     },
     "execution_count": 110,
     "metadata": {},
     "output_type": "execute_result"
    }
   ],
   "source": [
    "df1.verification_status.value_counts()"
   ]
  },
  {
   "cell_type": "code",
   "execution_count": 111,
   "id": "9d550c21",
   "metadata": {},
   "outputs": [
    {
     "data": {
      "text/plain": [
       "0"
      ]
     },
     "execution_count": 111,
     "metadata": {},
     "output_type": "execute_result"
    }
   ],
   "source": [
    "df1.verification_status.isnull().sum()"
   ]
  },
  {
   "cell_type": "code",
   "execution_count": 112,
   "id": "d2ff6cd5",
   "metadata": {},
   "outputs": [],
   "source": [
    "dfVerifySts=df1[['loan_status','verification_status']]"
   ]
  },
  {
   "cell_type": "code",
   "execution_count": 113,
   "id": "fe23f48b",
   "metadata": {},
   "outputs": [],
   "source": [
    "resVerifySts=pd.pivot_table(data=dfVerifySts,index=['verification_status'],columns =['loan_status'],margins =True,aggfunc=len,fill_value=0)\n"
   ]
  },
  {
   "cell_type": "code",
   "execution_count": 114,
   "id": "af66b2c8",
   "metadata": {},
   "outputs": [],
   "source": [
    "#resVerifySts = (resVerifySts.div(resVerifySts.iloc[:,-1],axis=0)*100)\n",
    "resVerifyStsPlt = resVerifySts.drop(index='All',axis=0)\n",
    "resVerifyStsPlt1 = resVerifyStsPlt.drop(resVerifyStsPlt.columns[-1],axis=1)"
   ]
  },
  {
   "cell_type": "code",
   "execution_count": 115,
   "id": "46238c65",
   "metadata": {},
   "outputs": [
    {
     "data": {
      "text/html": [
       "<div>\n",
       "<style scoped>\n",
       "    .dataframe tbody tr th:only-of-type {\n",
       "        vertical-align: middle;\n",
       "    }\n",
       "\n",
       "    .dataframe tbody tr th {\n",
       "        vertical-align: top;\n",
       "    }\n",
       "\n",
       "    .dataframe thead th {\n",
       "        text-align: right;\n",
       "    }\n",
       "</style>\n",
       "<table border=\"1\" class=\"dataframe\">\n",
       "  <thead>\n",
       "    <tr style=\"text-align: right;\">\n",
       "      <th>loan_status</th>\n",
       "      <th>Charged Off</th>\n",
       "      <th>Fully Paid</th>\n",
       "    </tr>\n",
       "    <tr>\n",
       "      <th>verification_status</th>\n",
       "      <th></th>\n",
       "      <th></th>\n",
       "    </tr>\n",
       "  </thead>\n",
       "  <tbody>\n",
       "    <tr>\n",
       "      <th>Not Verified</th>\n",
       "      <td>2049</td>\n",
       "      <td>14217</td>\n",
       "    </tr>\n",
       "    <tr>\n",
       "      <th>Source Verified</th>\n",
       "      <td>1396</td>\n",
       "      <td>8091</td>\n",
       "    </tr>\n",
       "    <tr>\n",
       "      <th>Verified</th>\n",
       "      <td>1953</td>\n",
       "      <td>9815</td>\n",
       "    </tr>\n",
       "  </tbody>\n",
       "</table>\n",
       "</div>"
      ],
      "text/plain": [
       "loan_status          Charged Off  Fully Paid\n",
       "verification_status                         \n",
       "Not Verified                2049       14217\n",
       "Source Verified             1396        8091\n",
       "Verified                    1953        9815"
      ]
     },
     "execution_count": 115,
     "metadata": {},
     "output_type": "execute_result"
    }
   ],
   "source": [
    "resVerifyStsPlt1.head()"
   ]
  },
  {
   "cell_type": "code",
   "execution_count": 116,
   "id": "21ad3626",
   "metadata": {},
   "outputs": [
    {
     "data": {
      "image/png": "[encoded data removed]",
      "text/plain": [
       "<Figure size 432x288 with 1 Axes>"
      ]
     },
     "metadata": {
      "needs_background": "light"
     },
     "output_type": "display_data"
    }
   ],
   "source": [
    "resVerifyStsPlt1.plot(kind=\"bar\")\n",
    "plt.show()"
   ]
  },
  {
   "cell_type": "markdown",
   "id": "506709ad",
   "metadata": {},
   "source": [
    "# Inference from the analysis above : The charged off cases of people with 'Not Verified' verification status is slightly high compared to others."
   ]
  }
 ],
 "metadata": {
  "kernelspec": {
   "display_name": "Python 3 (ipykernel)",
   "language": "python",
   "name": "python3"
  },
  "language_info": {
   "codemirror_mode": {
    "name": "ipython",
    "version": 3
   },
   "file_extension": ".py",
   "mimetype": "text/x-python",
   "name": "python",
   "nbconvert_exporter": "python",
   "pygments_lexer": "ipython3",
   "version": "3.9.6"
  }
 },
 "nbformat": 4,
 "nbformat_minor": 5
}
